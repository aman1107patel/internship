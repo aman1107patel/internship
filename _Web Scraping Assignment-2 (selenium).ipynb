{
 "cells": [
  {
   "cell_type": "code",
   "execution_count": 1,
   "id": "364be799",
   "metadata": {},
   "outputs": [
    {
     "name": "stdout",
     "output_type": "stream",
     "text": [
      "Requirement already satisfied: selenium in c:\\programdata\\anaconda3\\lib\\site-packages (4.1.2)\n",
      "Requirement already satisfied: trio-websocket~=0.9 in c:\\programdata\\anaconda3\\lib\\site-packages (from selenium) (0.9.2)\n",
      "Requirement already satisfied: urllib3[secure,socks]~=1.26 in c:\\programdata\\anaconda3\\lib\\site-packages (from selenium) (1.26.4)\n",
      "Requirement already satisfied: trio~=0.17 in c:\\programdata\\anaconda3\\lib\\site-packages (from selenium) (0.20.0)\n",
      "Requirement already satisfied: outcome in c:\\programdata\\anaconda3\\lib\\site-packages (from trio~=0.17->selenium) (1.1.0)\n",
      "Requirement already satisfied: sniffio in c:\\programdata\\anaconda3\\lib\\site-packages (from trio~=0.17->selenium) (1.2.0)\n",
      "Requirement already satisfied: idna in c:\\programdata\\anaconda3\\lib\\site-packages (from trio~=0.17->selenium) (2.10)\n",
      "Requirement already satisfied: sortedcontainers in c:\\programdata\\anaconda3\\lib\\site-packages (from trio~=0.17->selenium) (2.3.0)\n",
      "Requirement already satisfied: attrs>=19.2.0 in c:\\programdata\\anaconda3\\lib\\site-packages (from trio~=0.17->selenium) (20.3.0)\n",
      "Requirement already satisfied: async-generator>=1.9 in c:\\programdata\\anaconda3\\lib\\site-packages (from trio~=0.17->selenium) (1.10)\n",
      "Requirement already satisfied: cffi>=1.14 in c:\\programdata\\anaconda3\\lib\\site-packages (from trio~=0.17->selenium) (1.14.5)\n",
      "Requirement already satisfied: pycparser in c:\\programdata\\anaconda3\\lib\\site-packages (from cffi>=1.14->trio~=0.17->selenium) (2.20)\n",
      "Requirement already satisfied: wsproto>=0.14 in c:\\programdata\\anaconda3\\lib\\site-packages (from trio-websocket~=0.9->selenium) (1.1.0)\n",
      "Requirement already satisfied: PySocks!=1.5.7,<2.0,>=1.5.6 in c:\\programdata\\anaconda3\\lib\\site-packages (from urllib3[secure,socks]~=1.26->selenium) (1.7.1)\n",
      "Requirement already satisfied: pyOpenSSL>=0.14 in c:\\programdata\\anaconda3\\lib\\site-packages (from urllib3[secure,socks]~=1.26->selenium) (20.0.1)\n",
      "Requirement already satisfied: certifi in c:\\programdata\\anaconda3\\lib\\site-packages (from urllib3[secure,socks]~=1.26->selenium) (2020.12.5)\n",
      "Requirement already satisfied: cryptography>=1.3.4 in c:\\programdata\\anaconda3\\lib\\site-packages (from urllib3[secure,socks]~=1.26->selenium) (3.4.7)\n",
      "Requirement already satisfied: six>=1.5.2 in c:\\programdata\\anaconda3\\lib\\site-packages (from pyOpenSSL>=0.14->urllib3[secure,socks]~=1.26->selenium) (1.15.0)\n",
      "Requirement already satisfied: h11<1,>=0.9.0 in c:\\programdata\\anaconda3\\lib\\site-packages (from wsproto>=0.14->trio-websocket~=0.9->selenium) (0.13.0)\n"
     ]
    }
   ],
   "source": [
    "#install selenium\n",
    "!pip install selenium"
   ]
  },
  {
   "cell_type": "markdown",
   "id": "f04e098f",
   "metadata": {},
   "source": [
    "q1....Write a python program to scrape data for “Data Analyst” Job position in “Bangalore” location. You\n",
    "have to scrape the job-title, job-location, company_name, experience_required. You have to scrape first 10\n",
    "jobs data."
   ]
  },
  {
   "cell_type": "code",
   "execution_count": 7,
   "id": "0c138309",
   "metadata": {},
   "outputs": [],
   "source": [
    "#import selenium and webdriver\n",
    "import selenium\n",
    "from selenium import webdriver\n",
    "import pandas as pd\n",
    "#import warnings to avoid warnings\n",
    "import warnings\n",
    "warnings.filterwarnings(\"ignore\")"
   ]
  },
  {
   "cell_type": "code",
   "execution_count": 3,
   "id": "68f22ec1",
   "metadata": {},
   "outputs": [],
   "source": [
    "#connecting webdriver\n",
    "driver = webdriver.Chrome(r'C:/Users/Hp/Downloads/chromedriver_win32/chromedriver.exe')"
   ]
  },
  {
   "cell_type": "code",
   "execution_count": 4,
   "id": "73ec0b4f",
   "metadata": {},
   "outputs": [],
   "source": [
    "driver = webdriver.Chrome(\"chromedriver.exe\")"
   ]
  },
  {
   "cell_type": "code",
   "execution_count": 5,
   "id": "66685be4",
   "metadata": {},
   "outputs": [],
   "source": [
    "#getting url\n",
    "url = 'https://www.naukri.com/'\n",
    "driver.get(url)"
   ]
  },
  {
   "cell_type": "code",
   "execution_count": 6,
   "id": "1d81c5a8",
   "metadata": {},
   "outputs": [],
   "source": [
    "#Extracting the search element data analyst \n",
    "search_job = driver.find_element_by_xpath(\"/html/body/div/div[2]/div[3]/div/div/div[1]/div/div/div/input\")\n",
    "search_job\n",
    "search_job.send_keys(\"Data Analyst\")"
   ]
  },
  {
   "cell_type": "code",
   "execution_count": 7,
   "id": "b885e493",
   "metadata": {},
   "outputs": [],
   "source": [
    "#Extracting the search location element with banglore\n",
    "search_loc = driver.find_element_by_xpath(\"/html/body/div/div[2]/div[3]/div/div/div[3]/div/div/div/input\")\n",
    "search_loc\n",
    "search_loc.send_keys(\"bangalore\")"
   ]
  },
  {
   "cell_type": "code",
   "execution_count": 8,
   "id": "b671ac86",
   "metadata": {},
   "outputs": [],
   "source": [
    "#then search\n",
    "search_btn = driver.find_element_by_xpath(\"/html/body/div/div[2]/div[3]/div/div/div[6]\")\n",
    "search_btn\n",
    "search_btn.click()"
   ]
  },
  {
   "cell_type": "code",
   "execution_count": 9,
   "id": "25c8a62e",
   "metadata": {},
   "outputs": [
    {
     "data": {
      "text/plain": [
       "['Data Analyst I',\n",
       " 'Senior Data Analyst II',\n",
       " 'Senior Data Analyst - Ads & Promotion Platform (APP)',\n",
       " 'Hiring For Data Analyst I(SQL & Python)',\n",
       " 'Lead Data Analyst - Flipkart Data science group',\n",
       " 'Data Analyst',\n",
       " 'Data Analyst',\n",
       " 'Senior Data Analyst',\n",
       " 'Senior Data Analyst',\n",
       " 'Senior Data Analyst II']"
      ]
     },
     "execution_count": 9,
     "metadata": {},
     "output_type": "execute_result"
    }
   ],
   "source": [
    "titles = driver.find_elements_by_xpath('//a[@class=\"title fw500 ellipsis\"]')\n",
    "len(titles)\n",
    "titles[0:10]\n",
    "job_titles = []\n",
    "\n",
    "for i in titles:\n",
    "    job_titles.append(i.text)\n",
    "len(job_titles)\n",
    "job_titles[0:10]"
   ]
  },
  {
   "cell_type": "code",
   "execution_count": 10,
   "id": "b93829a1",
   "metadata": {},
   "outputs": [
    {
     "data": {
      "text/plain": [
       "['5-10 Yrs',\n",
       " '3-6 Yrs',\n",
       " '3-8 Yrs',\n",
       " '0-2 Yrs',\n",
       " '4-7 Yrs',\n",
       " '1-3 Yrs',\n",
       " '7-12 Yrs',\n",
       " '4-8 Yrs',\n",
       " '3-8 Yrs',\n",
       " '2-4 Yrs']"
      ]
     },
     "execution_count": 10,
     "metadata": {},
     "output_type": "execute_result"
    }
   ],
   "source": [
    "exp_tags = driver.find_elements_by_xpath('//li[@class=\"fleft grey-text br2 placeHolderLi experience\"]')\n",
    "len(exp_tags)\n",
    "experience = []\n",
    "\n",
    "for i in exp_tags:\n",
    "    experience.append(i.text)\n",
    "experience[0:10]    "
   ]
  },
  {
   "cell_type": "code",
   "execution_count": 11,
   "id": "f4276cab",
   "metadata": {},
   "outputs": [
    {
     "data": {
      "text/plain": [
       "['Bangalore/Bengaluru',\n",
       " 'Bangalore/Bengaluru',\n",
       " 'Bangalore/Bengaluru',\n",
       " 'Bangalore/Bengaluru',\n",
       " 'Bangalore/Bengaluru',\n",
       " 'Bangalore/Bengaluru',\n",
       " 'Bangalore/Bengaluru',\n",
       " 'Bangalore/Bengaluru',\n",
       " 'Bangalore/Bengaluru',\n",
       " 'Bangalore/Bengaluru']"
      ]
     },
     "execution_count": 11,
     "metadata": {},
     "output_type": "execute_result"
    }
   ],
   "source": [
    "loc_tags = driver.find_elements_by_xpath('//li[@class=\"fleft grey-text br2 placeHolderLi location\"]')\n",
    "len(loc_tags)\n",
    "location = []\n",
    "\n",
    "for i in loc_tags:\n",
    "    location.append(i.text)\n",
    "location[0:10]    "
   ]
  },
  {
   "cell_type": "code",
   "execution_count": 14,
   "id": "d3c62ce1",
   "metadata": {},
   "outputs": [
    {
     "data": {
      "text/plain": [
       "['Cerner',\n",
       " 'Flipkart',\n",
       " 'Gojek',\n",
       " 'Clario India Pvt Ltd',\n",
       " 'Flipkart',\n",
       " 'Flipkart',\n",
       " 'Intel',\n",
       " 'Capco',\n",
       " 'Flipkart',\n",
       " 'Flipkart']"
      ]
     },
     "execution_count": 14,
     "metadata": {},
     "output_type": "execute_result"
    }
   ],
   "source": [
    "company_tags = driver.find_elements_by_xpath('//a[@class=\"subTitle ellipsis fleft\"]')\n",
    "company_tags[0:10]\n",
    "company_names = []\n",
    "\n",
    "for i in company_tags:\n",
    "    company_names.append(i.text)\n",
    "company_names[0:10]    "
   ]
  },
  {
   "cell_type": "code",
   "execution_count": 16,
   "id": "b51ae079",
   "metadata": {},
   "outputs": [
    {
     "data": {
      "text/html": [
       "<div>\n",
       "<style scoped>\n",
       "    .dataframe tbody tr th:only-of-type {\n",
       "        vertical-align: middle;\n",
       "    }\n",
       "\n",
       "    .dataframe tbody tr th {\n",
       "        vertical-align: top;\n",
       "    }\n",
       "\n",
       "    .dataframe thead th {\n",
       "        text-align: right;\n",
       "    }\n",
       "</style>\n",
       "<table border=\"1\" class=\"dataframe\">\n",
       "  <thead>\n",
       "    <tr style=\"text-align: right;\">\n",
       "      <th></th>\n",
       "      <th>job title</th>\n",
       "      <th>Experience</th>\n",
       "      <th>Location</th>\n",
       "      <th>Company</th>\n",
       "    </tr>\n",
       "  </thead>\n",
       "  <tbody>\n",
       "    <tr>\n",
       "      <th>0</th>\n",
       "      <td>Data Analyst I</td>\n",
       "      <td>5-10 Yrs</td>\n",
       "      <td>Bangalore/Bengaluru</td>\n",
       "      <td>Cerner</td>\n",
       "    </tr>\n",
       "    <tr>\n",
       "      <th>1</th>\n",
       "      <td>Senior Data Analyst II</td>\n",
       "      <td>3-6 Yrs</td>\n",
       "      <td>Bangalore/Bengaluru</td>\n",
       "      <td>Flipkart</td>\n",
       "    </tr>\n",
       "    <tr>\n",
       "      <th>2</th>\n",
       "      <td>Senior Data Analyst - Ads &amp; Promotion Platform...</td>\n",
       "      <td>3-8 Yrs</td>\n",
       "      <td>Bangalore/Bengaluru</td>\n",
       "      <td>Gojek</td>\n",
       "    </tr>\n",
       "    <tr>\n",
       "      <th>3</th>\n",
       "      <td>Hiring For Data Analyst I(SQL &amp; Python)</td>\n",
       "      <td>0-2 Yrs</td>\n",
       "      <td>Bangalore/Bengaluru</td>\n",
       "      <td>Clario India Pvt Ltd</td>\n",
       "    </tr>\n",
       "    <tr>\n",
       "      <th>4</th>\n",
       "      <td>Lead Data Analyst - Flipkart Data science group</td>\n",
       "      <td>4-7 Yrs</td>\n",
       "      <td>Bangalore/Bengaluru</td>\n",
       "      <td>Flipkart</td>\n",
       "    </tr>\n",
       "    <tr>\n",
       "      <th>5</th>\n",
       "      <td>Data Analyst</td>\n",
       "      <td>1-3 Yrs</td>\n",
       "      <td>Bangalore/Bengaluru</td>\n",
       "      <td>Flipkart</td>\n",
       "    </tr>\n",
       "    <tr>\n",
       "      <th>6</th>\n",
       "      <td>Data Analyst</td>\n",
       "      <td>7-12 Yrs</td>\n",
       "      <td>Bangalore/Bengaluru</td>\n",
       "      <td>Intel</td>\n",
       "    </tr>\n",
       "    <tr>\n",
       "      <th>7</th>\n",
       "      <td>Senior Data Analyst</td>\n",
       "      <td>4-8 Yrs</td>\n",
       "      <td>Bangalore/Bengaluru</td>\n",
       "      <td>Capco</td>\n",
       "    </tr>\n",
       "    <tr>\n",
       "      <th>8</th>\n",
       "      <td>Senior Data Analyst</td>\n",
       "      <td>3-8 Yrs</td>\n",
       "      <td>Bangalore/Bengaluru</td>\n",
       "      <td>Flipkart</td>\n",
       "    </tr>\n",
       "    <tr>\n",
       "      <th>9</th>\n",
       "      <td>Senior Data Analyst II</td>\n",
       "      <td>2-4 Yrs</td>\n",
       "      <td>Bangalore/Bengaluru</td>\n",
       "      <td>Flipkart</td>\n",
       "    </tr>\n",
       "    <tr>\n",
       "      <th>10</th>\n",
       "      <td>Senior Data Analyst II</td>\n",
       "      <td>2-4 Yrs</td>\n",
       "      <td>Bangalore/Bengaluru</td>\n",
       "      <td>Flipkart</td>\n",
       "    </tr>\n",
       "    <tr>\n",
       "      <th>11</th>\n",
       "      <td>Senior Data Analyst</td>\n",
       "      <td>3-6 Yrs</td>\n",
       "      <td>Bangalore/Bengaluru</td>\n",
       "      <td>Mobile Premier League</td>\n",
       "    </tr>\n",
       "    <tr>\n",
       "      <th>12</th>\n",
       "      <td>Job openings For Data Analyst - AOA</td>\n",
       "      <td>2-3 Yrs</td>\n",
       "      <td>Bangalore/Bengaluru(4th Phase JP Nagar)</td>\n",
       "      <td>izmo ltd</td>\n",
       "    </tr>\n",
       "    <tr>\n",
       "      <th>13</th>\n",
       "      <td>Cargill - Data Analyst - Corporate Audit Domai...</td>\n",
       "      <td>6-11 Yrs</td>\n",
       "      <td>Bangalore/Bengaluru</td>\n",
       "      <td>Cargill Business Services India Private Limited</td>\n",
       "    </tr>\n",
       "    <tr>\n",
       "      <th>14</th>\n",
       "      <td>Hiring Data Analyst-Coimbatore/Bangalore</td>\n",
       "      <td>5-10 Yrs</td>\n",
       "      <td>Coimbatore, Bangalore/Bengaluru</td>\n",
       "      <td>KGISL BSS- Division of KG Information System P...</td>\n",
       "    </tr>\n",
       "    <tr>\n",
       "      <th>15</th>\n",
       "      <td>Hiring Data analyst with Pharma Background acr...</td>\n",
       "      <td>6-11 Yrs</td>\n",
       "      <td>Hyderabad/Secunderabad, Chennai, Bangalore/Ben...</td>\n",
       "      <td>HCL</td>\n",
       "    </tr>\n",
       "    <tr>\n",
       "      <th>16</th>\n",
       "      <td>Looking For Data Analyst</td>\n",
       "      <td>0-2 Yrs</td>\n",
       "      <td>Ahmedabad, Bangalore/Bengaluru</td>\n",
       "      <td>Trellance</td>\n",
       "    </tr>\n",
       "    <tr>\n",
       "      <th>17</th>\n",
       "      <td>Senior Data Analyst</td>\n",
       "      <td>5-8 Yrs</td>\n",
       "      <td>Remote</td>\n",
       "      <td>Liventus</td>\n",
       "    </tr>\n",
       "    <tr>\n",
       "      <th>18</th>\n",
       "      <td>Associate Data Analyst</td>\n",
       "      <td>4-9 Yrs</td>\n",
       "      <td>Bangalore/Bengaluru</td>\n",
       "      <td>Optum</td>\n",
       "    </tr>\n",
       "    <tr>\n",
       "      <th>19</th>\n",
       "      <td>Data Analyst with Tableau and SQL</td>\n",
       "      <td>5-10 Yrs</td>\n",
       "      <td>Hyderabad/Secunderabad, Pune, Bangalore/Bengal...</td>\n",
       "      <td>CriticalRiver Technologies Private Limited</td>\n",
       "    </tr>\n",
       "  </tbody>\n",
       "</table>\n",
       "</div>"
      ],
      "text/plain": [
       "                                            job title Experience  \\\n",
       "0                                      Data Analyst I   5-10 Yrs   \n",
       "1                              Senior Data Analyst II    3-6 Yrs   \n",
       "2   Senior Data Analyst - Ads & Promotion Platform...    3-8 Yrs   \n",
       "3             Hiring For Data Analyst I(SQL & Python)    0-2 Yrs   \n",
       "4     Lead Data Analyst - Flipkart Data science group    4-7 Yrs   \n",
       "5                                        Data Analyst    1-3 Yrs   \n",
       "6                                        Data Analyst   7-12 Yrs   \n",
       "7                                 Senior Data Analyst    4-8 Yrs   \n",
       "8                                 Senior Data Analyst    3-8 Yrs   \n",
       "9                              Senior Data Analyst II    2-4 Yrs   \n",
       "10                             Senior Data Analyst II    2-4 Yrs   \n",
       "11                                Senior Data Analyst    3-6 Yrs   \n",
       "12                Job openings For Data Analyst - AOA    2-3 Yrs   \n",
       "13  Cargill - Data Analyst - Corporate Audit Domai...   6-11 Yrs   \n",
       "14           Hiring Data Analyst-Coimbatore/Bangalore   5-10 Yrs   \n",
       "15  Hiring Data analyst with Pharma Background acr...   6-11 Yrs   \n",
       "16                           Looking For Data Analyst    0-2 Yrs   \n",
       "17                                Senior Data Analyst    5-8 Yrs   \n",
       "18                             Associate Data Analyst    4-9 Yrs   \n",
       "19                  Data Analyst with Tableau and SQL   5-10 Yrs   \n",
       "\n",
       "                                             Location  \\\n",
       "0                                 Bangalore/Bengaluru   \n",
       "1                                 Bangalore/Bengaluru   \n",
       "2                                 Bangalore/Bengaluru   \n",
       "3                                 Bangalore/Bengaluru   \n",
       "4                                 Bangalore/Bengaluru   \n",
       "5                                 Bangalore/Bengaluru   \n",
       "6                                 Bangalore/Bengaluru   \n",
       "7                                 Bangalore/Bengaluru   \n",
       "8                                 Bangalore/Bengaluru   \n",
       "9                                 Bangalore/Bengaluru   \n",
       "10                                Bangalore/Bengaluru   \n",
       "11                                Bangalore/Bengaluru   \n",
       "12            Bangalore/Bengaluru(4th Phase JP Nagar)   \n",
       "13                                Bangalore/Bengaluru   \n",
       "14                    Coimbatore, Bangalore/Bengaluru   \n",
       "15  Hyderabad/Secunderabad, Chennai, Bangalore/Ben...   \n",
       "16                     Ahmedabad, Bangalore/Bengaluru   \n",
       "17                                             Remote   \n",
       "18                                Bangalore/Bengaluru   \n",
       "19  Hyderabad/Secunderabad, Pune, Bangalore/Bengal...   \n",
       "\n",
       "                                              Company  \n",
       "0                                              Cerner  \n",
       "1                                            Flipkart  \n",
       "2                                               Gojek  \n",
       "3                                Clario India Pvt Ltd  \n",
       "4                                            Flipkart  \n",
       "5                                            Flipkart  \n",
       "6                                               Intel  \n",
       "7                                               Capco  \n",
       "8                                            Flipkart  \n",
       "9                                            Flipkart  \n",
       "10                                           Flipkart  \n",
       "11                              Mobile Premier League  \n",
       "12                                           izmo ltd  \n",
       "13    Cargill Business Services India Private Limited  \n",
       "14  KGISL BSS- Division of KG Information System P...  \n",
       "15                                                HCL  \n",
       "16                                          Trellance  \n",
       "17                                           Liventus  \n",
       "18                                              Optum  \n",
       "19         CriticalRiver Technologies Private Limited  "
      ]
     },
     "execution_count": 16,
     "metadata": {},
     "output_type": "execute_result"
    }
   ],
   "source": [
    "#creating DataFrame\n",
    "jobs = pd.DataFrame()\n",
    "jobs['job title'] = job_titles\n",
    "jobs['Experience'] = experience\n",
    "jobs['Location'] = location\n",
    "jobs['Company'] = company_names\n",
    "jobs"
   ]
  },
  {
   "cell_type": "markdown",
   "id": "9bc2adec",
   "metadata": {},
   "source": [
    "Q2: Write a python program to scrape data for “Data Scientist” Job position in “Bangalore” location. You\n",
    "have to scrape the job-title, job-location, company_name. You have to scrape first 10 jobs data.\n",
    "This task will be done in following steps"
   ]
  },
  {
   "cell_type": "code",
   "execution_count": 17,
   "id": "9595b887",
   "metadata": {},
   "outputs": [],
   "source": [
    "#connecting webdriver\n",
    "driver = webdriver.Chrome(r'C:/Users/Hp/Downloads/chromedriver_win32/chromedriver.exe')"
   ]
  },
  {
   "cell_type": "code",
   "execution_count": 18,
   "id": "82c9699a",
   "metadata": {},
   "outputs": [],
   "source": [
    "driver = webdriver.Chrome(\"chromedriver.exe\")"
   ]
  },
  {
   "cell_type": "code",
   "execution_count": 19,
   "id": "759d9133",
   "metadata": {},
   "outputs": [],
   "source": [
    "#getting url\n",
    "url = 'https://www.naukri.com/'\n",
    "driver.get(url)"
   ]
  },
  {
   "cell_type": "code",
   "execution_count": 21,
   "id": "0100637b",
   "metadata": {},
   "outputs": [],
   "source": [
    "#extracting search element with data scienctist\n",
    "search_job = driver.find_element_by_xpath(\"/html/body/div/div[2]/div[3]/div/div/div[1]/div/div/div/input\")\n",
    "search_job\n",
    "search_job.send_keys(\"Data Scientist\")\n",
    "#extracting search location element with banglore\n",
    "search_loc = driver.find_element_by_xpath(\"/html/body/div/div[2]/div[3]/div/div/div[3]/div/div/div/input\")\n",
    "search_loc\n",
    "search_loc.send_keys(\"bangalore\")\n",
    "#then click on search button\n",
    "search_btn = driver.find_element_by_xpath(\"/html/body/div/div[2]/div[3]/div/div/div[6]\")\n",
    "search_btn\n",
    "search_btn.click()"
   ]
  },
  {
   "cell_type": "code",
   "execution_count": 22,
   "id": "37f53a7a",
   "metadata": {},
   "outputs": [
    {
     "data": {
      "text/plain": [
       "['Sr Data Scientist',\n",
       " 'HCL Tech Opening - Lead Data Scientist',\n",
       " 'Sr . Data Scientist',\n",
       " 'Senior Data Scientist Payments',\n",
       " 'Senior Data Scientist (R Programming)',\n",
       " 'Lead Data Scientist',\n",
       " 'Data Scientist/Senior Data Scientist - Python',\n",
       " 'Senior Data Scientist - Python/Machine Learning Algorithms',\n",
       " 'Data Scientist / Analyst',\n",
       " 'Need Data scientists and data engineers - WFH- less than 30days notice']"
      ]
     },
     "execution_count": 22,
     "metadata": {},
     "output_type": "execute_result"
    }
   ],
   "source": [
    "titles = driver.find_elements_by_xpath('//a[@class=\"title fw500 ellipsis\"]')\n",
    "len(titles)\n",
    "titles[0:10]\n",
    "job_titles = []\n",
    "\n",
    "for i in titles:\n",
    "    job_titles.append(i.text)\n",
    "len(job_titles)\n",
    "job_titles[0:10]"
   ]
  },
  {
   "cell_type": "code",
   "execution_count": 23,
   "id": "491fa64d",
   "metadata": {},
   "outputs": [
    {
     "data": {
      "text/plain": [
       "['Uber',\n",
       " 'HCL',\n",
       " 'Visa',\n",
       " 'AirSeva',\n",
       " 'Ignitho',\n",
       " 'Kyndryl',\n",
       " 'ApicalGo Consultancy',\n",
       " 'Altimax Business Solutions',\n",
       " 'open data fabric',\n",
       " 'Covalense Technologies Private Limited']"
      ]
     },
     "execution_count": 23,
     "metadata": {},
     "output_type": "execute_result"
    }
   ],
   "source": [
    "company_tags = driver.find_elements_by_xpath('//a[@class=\"subTitle ellipsis fleft\"]')\n",
    "company_tags[0:10]\n",
    "company_names = []\n",
    "\n",
    "for i in company_tags:\n",
    "    company_names.append(i.text)\n",
    "company_names[0:10]"
   ]
  },
  {
   "cell_type": "code",
   "execution_count": 24,
   "id": "6a6986f5",
   "metadata": {},
   "outputs": [
    {
     "data": {
      "text/plain": [
       "['Bangalore/Bengaluru',\n",
       " 'Kolkata, Hyderabad/Secunderabad, Pune, Chennai, Bangalore/Bengaluru, Delhi / NCR',\n",
       " 'Bangalore/Bengaluru',\n",
       " 'Bangalore/Bengaluru',\n",
       " 'Remote',\n",
       " 'Bangalore/Bengaluru',\n",
       " 'Bangalore/Bengaluru',\n",
       " 'Mumbai, Hyderabad/Secunderabad, Pune, Bangalore/Bengaluru',\n",
       " 'Bangalore/Bengaluru',\n",
       " 'Hyderabad/Secunderabad, Bangalore/Bengaluru, Mumbai (All Areas)\\n(WFH during Covid)']"
      ]
     },
     "execution_count": 24,
     "metadata": {},
     "output_type": "execute_result"
    }
   ],
   "source": [
    "loc_tags = driver.find_elements_by_xpath('//li[@class=\"fleft grey-text br2 placeHolderLi location\"]')\n",
    "len(loc_tags)\n",
    "location = []\n",
    "\n",
    "for i in loc_tags:\n",
    "    location.append(i.text)\n",
    "location[0:10]"
   ]
  },
  {
   "cell_type": "code",
   "execution_count": 25,
   "id": "e50b1802",
   "metadata": {},
   "outputs": [
    {
     "data": {
      "text/html": [
       "<div>\n",
       "<style scoped>\n",
       "    .dataframe tbody tr th:only-of-type {\n",
       "        vertical-align: middle;\n",
       "    }\n",
       "\n",
       "    .dataframe tbody tr th {\n",
       "        vertical-align: top;\n",
       "    }\n",
       "\n",
       "    .dataframe thead th {\n",
       "        text-align: right;\n",
       "    }\n",
       "</style>\n",
       "<table border=\"1\" class=\"dataframe\">\n",
       "  <thead>\n",
       "    <tr style=\"text-align: right;\">\n",
       "      <th></th>\n",
       "      <th>job title</th>\n",
       "      <th>Location</th>\n",
       "      <th>Company</th>\n",
       "    </tr>\n",
       "  </thead>\n",
       "  <tbody>\n",
       "    <tr>\n",
       "      <th>0</th>\n",
       "      <td>Sr Data Scientist</td>\n",
       "      <td>Bangalore/Bengaluru</td>\n",
       "      <td>Uber</td>\n",
       "    </tr>\n",
       "    <tr>\n",
       "      <th>1</th>\n",
       "      <td>HCL Tech Opening - Lead Data Scientist</td>\n",
       "      <td>Kolkata, Hyderabad/Secunderabad, Pune, Chennai...</td>\n",
       "      <td>HCL</td>\n",
       "    </tr>\n",
       "    <tr>\n",
       "      <th>2</th>\n",
       "      <td>Sr . Data Scientist</td>\n",
       "      <td>Bangalore/Bengaluru</td>\n",
       "      <td>Visa</td>\n",
       "    </tr>\n",
       "    <tr>\n",
       "      <th>3</th>\n",
       "      <td>Senior Data Scientist Payments</td>\n",
       "      <td>Bangalore/Bengaluru</td>\n",
       "      <td>AirSeva</td>\n",
       "    </tr>\n",
       "    <tr>\n",
       "      <th>4</th>\n",
       "      <td>Senior Data Scientist (R Programming)</td>\n",
       "      <td>Remote</td>\n",
       "      <td>Ignitho</td>\n",
       "    </tr>\n",
       "    <tr>\n",
       "      <th>5</th>\n",
       "      <td>Lead Data Scientist</td>\n",
       "      <td>Bangalore/Bengaluru</td>\n",
       "      <td>Kyndryl</td>\n",
       "    </tr>\n",
       "    <tr>\n",
       "      <th>6</th>\n",
       "      <td>Data Scientist/Senior Data Scientist - Python</td>\n",
       "      <td>Bangalore/Bengaluru</td>\n",
       "      <td>ApicalGo Consultancy</td>\n",
       "    </tr>\n",
       "    <tr>\n",
       "      <th>7</th>\n",
       "      <td>Senior Data Scientist - Python/Machine Learnin...</td>\n",
       "      <td>Mumbai, Hyderabad/Secunderabad, Pune, Bangalor...</td>\n",
       "      <td>Altimax Business Solutions</td>\n",
       "    </tr>\n",
       "    <tr>\n",
       "      <th>8</th>\n",
       "      <td>Data Scientist / Analyst</td>\n",
       "      <td>Bangalore/Bengaluru</td>\n",
       "      <td>open data fabric</td>\n",
       "    </tr>\n",
       "    <tr>\n",
       "      <th>9</th>\n",
       "      <td>Need Data scientists and data engineers - WFH-...</td>\n",
       "      <td>Hyderabad/Secunderabad, Bangalore/Bengaluru, M...</td>\n",
       "      <td>Covalense Technologies Private Limited</td>\n",
       "    </tr>\n",
       "    <tr>\n",
       "      <th>10</th>\n",
       "      <td>Data Scientist</td>\n",
       "      <td>Bangalore/Bengaluru</td>\n",
       "      <td>AirSeva</td>\n",
       "    </tr>\n",
       "    <tr>\n",
       "      <th>11</th>\n",
       "      <td>Data Scientist</td>\n",
       "      <td>New Delhi, Gurgaon/Gurugram, Bangalore/Bengalu...</td>\n",
       "      <td>Korea Trade Center</td>\n",
       "    </tr>\n",
       "    <tr>\n",
       "      <th>12</th>\n",
       "      <td>Data Scientist</td>\n",
       "      <td>Bangalore/Bengaluru</td>\n",
       "      <td>Microsoft</td>\n",
       "    </tr>\n",
       "    <tr>\n",
       "      <th>13</th>\n",
       "      <td>Hiring For Data scientist- ML/python @ Unitedh...</td>\n",
       "      <td>Bangalore/Bengaluru\\n(WFH during Covid)</td>\n",
       "      <td>Optum</td>\n",
       "    </tr>\n",
       "    <tr>\n",
       "      <th>14</th>\n",
       "      <td>Data Scientist</td>\n",
       "      <td>Bangalore/Bengaluru</td>\n",
       "      <td>Cytiva</td>\n",
       "    </tr>\n",
       "    <tr>\n",
       "      <th>15</th>\n",
       "      <td>Principal Data Scientist</td>\n",
       "      <td>Bangalore/Bengaluru</td>\n",
       "      <td>Mobile Premier League</td>\n",
       "    </tr>\n",
       "    <tr>\n",
       "      <th>16</th>\n",
       "      <td>Data Scientist</td>\n",
       "      <td>Pune, Gurgaon/Gurugram, Chennai, Bangalore/Ben...</td>\n",
       "      <td>HDFC Bank</td>\n",
       "    </tr>\n",
       "    <tr>\n",
       "      <th>17</th>\n",
       "      <td>Data Scientist</td>\n",
       "      <td>Bangalore/Bengaluru</td>\n",
       "      <td>Shell</td>\n",
       "    </tr>\n",
       "    <tr>\n",
       "      <th>18</th>\n",
       "      <td>Data Scientist</td>\n",
       "      <td>Mumbai, Bangalore/Bengaluru</td>\n",
       "      <td>Master Mind Consultancy</td>\n",
       "    </tr>\n",
       "    <tr>\n",
       "      <th>19</th>\n",
       "      <td>Data Scientist</td>\n",
       "      <td>Mumbai, Bangalore/Bengaluru</td>\n",
       "      <td>Master Mind Consultancy</td>\n",
       "    </tr>\n",
       "  </tbody>\n",
       "</table>\n",
       "</div>"
      ],
      "text/plain": [
       "                                            job title  \\\n",
       "0                                   Sr Data Scientist   \n",
       "1              HCL Tech Opening - Lead Data Scientist   \n",
       "2                                 Sr . Data Scientist   \n",
       "3                      Senior Data Scientist Payments   \n",
       "4               Senior Data Scientist (R Programming)   \n",
       "5                                 Lead Data Scientist   \n",
       "6       Data Scientist/Senior Data Scientist - Python   \n",
       "7   Senior Data Scientist - Python/Machine Learnin...   \n",
       "8                            Data Scientist / Analyst   \n",
       "9   Need Data scientists and data engineers - WFH-...   \n",
       "10                                     Data Scientist   \n",
       "11                                     Data Scientist   \n",
       "12                                     Data Scientist   \n",
       "13  Hiring For Data scientist- ML/python @ Unitedh...   \n",
       "14                                     Data Scientist   \n",
       "15                           Principal Data Scientist   \n",
       "16                                     Data Scientist   \n",
       "17                                     Data Scientist   \n",
       "18                                     Data Scientist   \n",
       "19                                     Data Scientist   \n",
       "\n",
       "                                             Location  \\\n",
       "0                                 Bangalore/Bengaluru   \n",
       "1   Kolkata, Hyderabad/Secunderabad, Pune, Chennai...   \n",
       "2                                 Bangalore/Bengaluru   \n",
       "3                                 Bangalore/Bengaluru   \n",
       "4                                              Remote   \n",
       "5                                 Bangalore/Bengaluru   \n",
       "6                                 Bangalore/Bengaluru   \n",
       "7   Mumbai, Hyderabad/Secunderabad, Pune, Bangalor...   \n",
       "8                                 Bangalore/Bengaluru   \n",
       "9   Hyderabad/Secunderabad, Bangalore/Bengaluru, M...   \n",
       "10                                Bangalore/Bengaluru   \n",
       "11  New Delhi, Gurgaon/Gurugram, Bangalore/Bengalu...   \n",
       "12                                Bangalore/Bengaluru   \n",
       "13            Bangalore/Bengaluru\\n(WFH during Covid)   \n",
       "14                                Bangalore/Bengaluru   \n",
       "15                                Bangalore/Bengaluru   \n",
       "16  Pune, Gurgaon/Gurugram, Chennai, Bangalore/Ben...   \n",
       "17                                Bangalore/Bengaluru   \n",
       "18                        Mumbai, Bangalore/Bengaluru   \n",
       "19                        Mumbai, Bangalore/Bengaluru   \n",
       "\n",
       "                                   Company  \n",
       "0                                     Uber  \n",
       "1                                      HCL  \n",
       "2                                     Visa  \n",
       "3                                  AirSeva  \n",
       "4                                  Ignitho  \n",
       "5                                  Kyndryl  \n",
       "6                     ApicalGo Consultancy  \n",
       "7               Altimax Business Solutions  \n",
       "8                         open data fabric  \n",
       "9   Covalense Technologies Private Limited  \n",
       "10                                 AirSeva  \n",
       "11                      Korea Trade Center  \n",
       "12                               Microsoft  \n",
       "13                                   Optum  \n",
       "14                                  Cytiva  \n",
       "15                   Mobile Premier League  \n",
       "16                               HDFC Bank  \n",
       "17                                   Shell  \n",
       "18                 Master Mind Consultancy  \n",
       "19                 Master Mind Consultancy  "
      ]
     },
     "execution_count": 25,
     "metadata": {},
     "output_type": "execute_result"
    }
   ],
   "source": [
    "#create the data frame\n",
    "jobs = pd.DataFrame()\n",
    "jobs['job title'] = job_titles\n",
    "jobs['Location'] = location\n",
    "jobs['Company'] = company_names\n",
    "jobs"
   ]
  },
  {
   "cell_type": "markdown",
   "id": "34b066e5",
   "metadata": {},
   "source": [
    "Q3..In this question you have to scrape data using the filters available on the webpage as shown below\n",
    "You have to use the location and salary filter.\n",
    "You have to scrape data for “Data Scientist” designation for first 10 job results.\n",
    "You have to scrape the job-title, job-location, company name, experience required.\n",
    "The location filter to be used is “Delhi/NCR”. The salary filter to be used is “3-6” lakhs\n"
   ]
  },
  {
   "cell_type": "code",
   "execution_count": 28,
   "id": "5bc425b6",
   "metadata": {},
   "outputs": [],
   "source": [
    "#connecting webdriver\n",
    "driver = webdriver.Chrome(r'C:/Users/Hp/Downloads/chromedriver_win32/chromedriver.exe')"
   ]
  },
  {
   "cell_type": "code",
   "execution_count": 29,
   "id": "17f13498",
   "metadata": {},
   "outputs": [],
   "source": [
    "driver = webdriver.Chrome(\"chromedriver.exe\")"
   ]
  },
  {
   "cell_type": "code",
   "execution_count": 33,
   "id": "d168eaa1",
   "metadata": {},
   "outputs": [],
   "source": [
    "#getting url \n",
    "url = 'https://www.naukri.com/'\n",
    "driver.get(url)"
   ]
  },
  {
   "cell_type": "code",
   "execution_count": 35,
   "id": "3985fb9a",
   "metadata": {},
   "outputs": [],
   "source": [
    "#extracting the search element with data scientist\n",
    "search_job = driver.find_element_by_xpath(\"/html/body/div/div[2]/div[3]/div/div/div[1]/div/div/div/input\")\n",
    "search_job\n",
    "search_job.send_keys(\"Data Scientist\")\n",
    "#click on the extracting data of search element\n",
    "search_btn = driver.find_element_by_xpath(\"/html/body/div/div[2]/div[3]/div/div/div[6]\")\n",
    "search_btn\n",
    "search_btn.click()"
   ]
  },
  {
   "cell_type": "code",
   "execution_count": 43,
   "id": "171c072d",
   "metadata": {},
   "outputs": [],
   "source": [
    "#extracting the location filter \n",
    "location_filter = driver.find_element_by_xpath(\"/html/body/div[1]/div[3]/div[2]/section[1]/div[2]/div[1]/div[2]/div[3]/label/i\")\n",
    "location_filter.click()"
   ]
  },
  {
   "cell_type": "code",
   "execution_count": 44,
   "id": "7ff28f6f",
   "metadata": {},
   "outputs": [],
   "source": [
    "#extracting the salary filter\n",
    "salary_filter = driver.find_element_by_xpath(\"/html/body/div[1]/div[3]/div[2]/section[1]/div[2]/div[4]/div[2]/div[2]/label/i\")\n",
    "salary_filter.click()"
   ]
  },
  {
   "cell_type": "code",
   "execution_count": 45,
   "id": "d4870c6d",
   "metadata": {},
   "outputs": [
    {
     "data": {
      "text/plain": [
       "['Excellent Opportunity For Freshers For AI/ML, Data Scientist, BI, QA',\n",
       " 'Data scientist- Python',\n",
       " 'Data Analyst / Data Scientist / Business Analytics / Fresher - MNC',\n",
       " 'Hiring For Senior Data Scientist-Noida',\n",
       " 'Data Scientist',\n",
       " 'Data Scientist _NLP',\n",
       " 'Data Scientist (freelance)',\n",
       " 'Data Scientist - MIND Infotech',\n",
       " 'Data Scientist - MIND Infotech',\n",
       " 'Only Fresher / Python Data Scientist / Trainee / Analytics - MNC Jobs']"
      ]
     },
     "execution_count": 45,
     "metadata": {},
     "output_type": "execute_result"
    }
   ],
   "source": [
    "titles = driver.find_elements_by_xpath('//a[@class=\"title fw500 ellipsis\"]')\n",
    "len(titles)\n",
    "titles[0:10]\n",
    "job_titles = []\n",
    "\n",
    "for i in titles:\n",
    "    job_titles.append(i.text)\n",
    "len(job_titles)\n",
    "job_titles[0:10]"
   ]
  },
  {
   "cell_type": "code",
   "execution_count": 46,
   "id": "82ca3390",
   "metadata": {},
   "outputs": [
    {
     "data": {
      "text/plain": [
       "['NTT Data',\n",
       " 'TeamPlus Staffing Solution Pvt Ltd',\n",
       " 'GABA Consultancy services',\n",
       " 'Lumiq.ai',\n",
       " 'Mount Talent Consulting Private Limited',\n",
       " 'EXL',\n",
       " '2Coms',\n",
       " 'MOTHERSONSUMI INFOTECH & DESIGNS LIMITED',\n",
       " 'MOTHERSONSUMI INFOTECH & DESIGNS LIMITED',\n",
       " 'GABA Consultancy services']"
      ]
     },
     "execution_count": 46,
     "metadata": {},
     "output_type": "execute_result"
    }
   ],
   "source": [
    "company_tags = driver.find_elements_by_xpath('//a[@class=\"subTitle ellipsis fleft\"]')\n",
    "company_tags[0:10]\n",
    "company_names = []\n",
    "\n",
    "for i in company_tags:\n",
    "    company_names.append(i.text)\n",
    "company_names[0:10]"
   ]
  },
  {
   "cell_type": "code",
   "execution_count": 47,
   "id": "c580e5f1",
   "metadata": {},
   "outputs": [
    {
     "data": {
      "text/plain": [
       "['Noida, Kolkata, Hyderabad/Secunderabad, Pune, Chennai, Bangalore/Bengaluru, Delhi / NCR, Mumbai (All Areas)\\n(WFH during Covid)',\n",
       " 'Gurgaon/Gurugram',\n",
       " 'Noida, New Delhi, Delhi / NCR',\n",
       " 'Noida, New Delhi, Greater Noida',\n",
       " 'Hyderabad/Secunderabad, Pune, Gurgaon/Gurugram, Bangalore/Bengaluru, Delhi / NCR',\n",
       " 'Bangalore/Bengaluru, Delhi / NCR\\n(WFH during Covid)',\n",
       " 'New Delhi, Delhi',\n",
       " 'Noida',\n",
       " 'Noida',\n",
       " 'Noida, New Delhi, Gurgaon/Gurugram']"
      ]
     },
     "execution_count": 47,
     "metadata": {},
     "output_type": "execute_result"
    }
   ],
   "source": [
    "loc_tags = driver.find_elements_by_xpath('//li[@class=\"fleft grey-text br2 placeHolderLi location\"]')\n",
    "len(loc_tags)\n",
    "location = []\n",
    "\n",
    "for i in loc_tags:\n",
    "    location.append(i.text)\n",
    "location[0:10]"
   ]
  },
  {
   "cell_type": "code",
   "execution_count": 48,
   "id": "56d681b8",
   "metadata": {},
   "outputs": [
    {
     "data": {
      "text/html": [
       "<div>\n",
       "<style scoped>\n",
       "    .dataframe tbody tr th:only-of-type {\n",
       "        vertical-align: middle;\n",
       "    }\n",
       "\n",
       "    .dataframe tbody tr th {\n",
       "        vertical-align: top;\n",
       "    }\n",
       "\n",
       "    .dataframe thead th {\n",
       "        text-align: right;\n",
       "    }\n",
       "</style>\n",
       "<table border=\"1\" class=\"dataframe\">\n",
       "  <thead>\n",
       "    <tr style=\"text-align: right;\">\n",
       "      <th></th>\n",
       "      <th>job title</th>\n",
       "      <th>Location</th>\n",
       "      <th>Company</th>\n",
       "    </tr>\n",
       "  </thead>\n",
       "  <tbody>\n",
       "    <tr>\n",
       "      <th>0</th>\n",
       "      <td>Excellent Opportunity For Freshers For AI/ML, ...</td>\n",
       "      <td>Noida, Kolkata, Hyderabad/Secunderabad, Pune, ...</td>\n",
       "      <td>NTT Data</td>\n",
       "    </tr>\n",
       "    <tr>\n",
       "      <th>1</th>\n",
       "      <td>Data scientist- Python</td>\n",
       "      <td>Gurgaon/Gurugram</td>\n",
       "      <td>TeamPlus Staffing Solution Pvt Ltd</td>\n",
       "    </tr>\n",
       "    <tr>\n",
       "      <th>2</th>\n",
       "      <td>Data Analyst / Data Scientist / Business Analy...</td>\n",
       "      <td>Noida, New Delhi, Delhi / NCR</td>\n",
       "      <td>GABA Consultancy services</td>\n",
       "    </tr>\n",
       "    <tr>\n",
       "      <th>3</th>\n",
       "      <td>Hiring For Senior Data Scientist-Noida</td>\n",
       "      <td>Noida, New Delhi, Greater Noida</td>\n",
       "      <td>Lumiq.ai</td>\n",
       "    </tr>\n",
       "    <tr>\n",
       "      <th>4</th>\n",
       "      <td>Data Scientist</td>\n",
       "      <td>Hyderabad/Secunderabad, Pune, Gurgaon/Gurugram...</td>\n",
       "      <td>Mount Talent Consulting Private Limited</td>\n",
       "    </tr>\n",
       "    <tr>\n",
       "      <th>5</th>\n",
       "      <td>Data Scientist _NLP</td>\n",
       "      <td>Bangalore/Bengaluru, Delhi / NCR\\n(WFH during ...</td>\n",
       "      <td>EXL</td>\n",
       "    </tr>\n",
       "    <tr>\n",
       "      <th>6</th>\n",
       "      <td>Data Scientist (freelance)</td>\n",
       "      <td>New Delhi, Delhi</td>\n",
       "      <td>2Coms</td>\n",
       "    </tr>\n",
       "    <tr>\n",
       "      <th>7</th>\n",
       "      <td>Data Scientist - MIND Infotech</td>\n",
       "      <td>Noida</td>\n",
       "      <td>MOTHERSONSUMI INFOTECH &amp; DESIGNS LIMITED</td>\n",
       "    </tr>\n",
       "    <tr>\n",
       "      <th>8</th>\n",
       "      <td>Data Scientist - MIND Infotech</td>\n",
       "      <td>Noida</td>\n",
       "      <td>MOTHERSONSUMI INFOTECH &amp; DESIGNS LIMITED</td>\n",
       "    </tr>\n",
       "    <tr>\n",
       "      <th>9</th>\n",
       "      <td>Only Fresher / Python Data Scientist / Trainee...</td>\n",
       "      <td>Noida, New Delhi, Gurgaon/Gurugram</td>\n",
       "      <td>GABA Consultancy services</td>\n",
       "    </tr>\n",
       "    <tr>\n",
       "      <th>10</th>\n",
       "      <td>Lead Data Scientist</td>\n",
       "      <td>Delhi / NCR\\n(WFH during Covid)</td>\n",
       "      <td>Indihire HR Consultants Private Limited</td>\n",
       "    </tr>\n",
       "    <tr>\n",
       "      <th>11</th>\n",
       "      <td>Hiring For Data Scientist- Gurgaon/ Noida</td>\n",
       "      <td>Noida, Gurgaon/Gurugram</td>\n",
       "      <td>Mascot e-services</td>\n",
       "    </tr>\n",
       "    <tr>\n",
       "      <th>12</th>\n",
       "      <td>Junior Data Analyst/ Scientist- Fresher Position</td>\n",
       "      <td>Kolkata, Hyderabad/Secunderabad, Pune, Ahmedab...</td>\n",
       "      <td>Sejal Consulting Hub</td>\n",
       "    </tr>\n",
       "    <tr>\n",
       "      <th>13</th>\n",
       "      <td>Urgent Requirement || Data Scientist || Noida</td>\n",
       "      <td>Noida, Delhi / NCR</td>\n",
       "      <td>HCL</td>\n",
       "    </tr>\n",
       "    <tr>\n",
       "      <th>14</th>\n",
       "      <td>Data Scientist</td>\n",
       "      <td>New Delhi</td>\n",
       "      <td>Boston Consulting Group</td>\n",
       "    </tr>\n",
       "    <tr>\n",
       "      <th>15</th>\n",
       "      <td>Data Scientist</td>\n",
       "      <td>Noida</td>\n",
       "      <td>Stefanini</td>\n",
       "    </tr>\n",
       "    <tr>\n",
       "      <th>16</th>\n",
       "      <td>Senior Data Scientist</td>\n",
       "      <td>Delhi</td>\n",
       "      <td>iNICU</td>\n",
       "    </tr>\n",
       "    <tr>\n",
       "      <th>17</th>\n",
       "      <td>Lead Data Scientist - KYC/Fraud/Marketing</td>\n",
       "      <td>New Delhi</td>\n",
       "      <td>Tide Software</td>\n",
       "    </tr>\n",
       "    <tr>\n",
       "      <th>18</th>\n",
       "      <td>Open Project | IT Consulting | Data Scientist</td>\n",
       "      <td>Noida, New Delhi, Bangalore Rural, Bangalore/B...</td>\n",
       "      <td>Virtuoso Staffing Solutions Pvt Ltd</td>\n",
       "    </tr>\n",
       "    <tr>\n",
       "      <th>19</th>\n",
       "      <td>Data Scientist</td>\n",
       "      <td>Gurgaon, Bengaluru</td>\n",
       "      <td>BlackBuck</td>\n",
       "    </tr>\n",
       "  </tbody>\n",
       "</table>\n",
       "</div>"
      ],
      "text/plain": [
       "                                            job title  \\\n",
       "0   Excellent Opportunity For Freshers For AI/ML, ...   \n",
       "1                              Data scientist- Python   \n",
       "2   Data Analyst / Data Scientist / Business Analy...   \n",
       "3              Hiring For Senior Data Scientist-Noida   \n",
       "4                                      Data Scientist   \n",
       "5                                 Data Scientist _NLP   \n",
       "6                          Data Scientist (freelance)   \n",
       "7                      Data Scientist - MIND Infotech   \n",
       "8                      Data Scientist - MIND Infotech   \n",
       "9   Only Fresher / Python Data Scientist / Trainee...   \n",
       "10                                Lead Data Scientist   \n",
       "11          Hiring For Data Scientist- Gurgaon/ Noida   \n",
       "12   Junior Data Analyst/ Scientist- Fresher Position   \n",
       "13      Urgent Requirement || Data Scientist || Noida   \n",
       "14                                     Data Scientist   \n",
       "15                                     Data Scientist   \n",
       "16                              Senior Data Scientist   \n",
       "17          Lead Data Scientist - KYC/Fraud/Marketing   \n",
       "18      Open Project | IT Consulting | Data Scientist   \n",
       "19                                     Data Scientist   \n",
       "\n",
       "                                             Location  \\\n",
       "0   Noida, Kolkata, Hyderabad/Secunderabad, Pune, ...   \n",
       "1                                    Gurgaon/Gurugram   \n",
       "2                       Noida, New Delhi, Delhi / NCR   \n",
       "3                     Noida, New Delhi, Greater Noida   \n",
       "4   Hyderabad/Secunderabad, Pune, Gurgaon/Gurugram...   \n",
       "5   Bangalore/Bengaluru, Delhi / NCR\\n(WFH during ...   \n",
       "6                                    New Delhi, Delhi   \n",
       "7                                               Noida   \n",
       "8                                               Noida   \n",
       "9                  Noida, New Delhi, Gurgaon/Gurugram   \n",
       "10                    Delhi / NCR\\n(WFH during Covid)   \n",
       "11                            Noida, Gurgaon/Gurugram   \n",
       "12  Kolkata, Hyderabad/Secunderabad, Pune, Ahmedab...   \n",
       "13                                 Noida, Delhi / NCR   \n",
       "14                                          New Delhi   \n",
       "15                                              Noida   \n",
       "16                                              Delhi   \n",
       "17                                          New Delhi   \n",
       "18  Noida, New Delhi, Bangalore Rural, Bangalore/B...   \n",
       "19                                 Gurgaon, Bengaluru   \n",
       "\n",
       "                                     Company  \n",
       "0                                   NTT Data  \n",
       "1         TeamPlus Staffing Solution Pvt Ltd  \n",
       "2                  GABA Consultancy services  \n",
       "3                                   Lumiq.ai  \n",
       "4    Mount Talent Consulting Private Limited  \n",
       "5                                        EXL  \n",
       "6                                      2Coms  \n",
       "7   MOTHERSONSUMI INFOTECH & DESIGNS LIMITED  \n",
       "8   MOTHERSONSUMI INFOTECH & DESIGNS LIMITED  \n",
       "9                  GABA Consultancy services  \n",
       "10   Indihire HR Consultants Private Limited  \n",
       "11                         Mascot e-services  \n",
       "12                      Sejal Consulting Hub  \n",
       "13                                       HCL  \n",
       "14                   Boston Consulting Group  \n",
       "15                                 Stefanini  \n",
       "16                                     iNICU  \n",
       "17                             Tide Software  \n",
       "18       Virtuoso Staffing Solutions Pvt Ltd  \n",
       "19                                 BlackBuck  "
      ]
     },
     "execution_count": 48,
     "metadata": {},
     "output_type": "execute_result"
    }
   ],
   "source": [
    "#create the dataframe\n",
    "jobs = pd.DataFrame()\n",
    "jobs['job title'] = job_titles\n",
    "jobs['Location'] = location\n",
    "jobs['Company'] = company_names\n",
    "jobs"
   ]
  },
  {
   "cell_type": "markdown",
   "id": "ac9be626",
   "metadata": {},
   "source": [
    "q4..Scrape data of first 100 sunglasses listings on flipkart.com. You have to scrape four attributes\n",
    "1. Brand\n",
    "2. Product Description\n",
    "3. Price\n"
   ]
  },
  {
   "cell_type": "code",
   "execution_count": 71,
   "id": "80713d90",
   "metadata": {},
   "outputs": [],
   "source": [
    "#connecting webdriver\n",
    "driver = webdriver.Chrome(r'C:/Users/Hp/Downloads/chromedriver_win32/chromedriver.exe')\n",
    "driver = webdriver.Chrome(\"chromedriver.exe\")\n",
    "url = 'https://www.flipkart.com/'\n",
    "driver.get(url)"
   ]
  },
  {
   "cell_type": "code",
   "execution_count": 72,
   "id": "07b80139",
   "metadata": {},
   "outputs": [],
   "source": [
    "#extracting the search element with sunglass\n",
    "search_thing = driver.find_element_by_xpath(\"/html/body/div[1]/div/div[1]/div[1]/div[2]/div[2]/form/div/div/input\")\n",
    "search_thing\n",
    "search_thing.send_keys(\"sunglasses\")\n",
    "#click on extracting data of search btn\n",
    "search_btn = driver.find_element_by_xpath(\"/html/body/div[1]/div/div[1]/div[1]/div[2]/div[2]/form/div/button\")\n",
    "search_btn\n",
    "search_btn.click()"
   ]
  },
  {
   "cell_type": "code",
   "execution_count": 84,
   "id": "7f8912f4",
   "metadata": {},
   "outputs": [
    {
     "data": {
      "text/plain": [
       "['Ray-Ban',\n",
       " 'Ray-Ban',\n",
       " 'SRPM',\n",
       " 'SUNBEE',\n",
       " 'PIRASO',\n",
       " 'ROZZETTA CRAFT',\n",
       " 'Elligator',\n",
       " 'Arnette',\n",
       " 'Lee Topper',\n",
       " 'New Specs',\n",
       " 'DEIXELS',\n",
       " 'LOUIS KOUROS',\n",
       " 'Fastrack',\n",
       " 'PIRASO',\n",
       " 'PIRASO',\n",
       " 'ROZZETTA CRAFT',\n",
       " 'SHAAH COLLECTIONS',\n",
       " 'PIRASO',\n",
       " 'Lee Topper',\n",
       " 'Arnette',\n",
       " 'GANSTA',\n",
       " 'kingsunglasses',\n",
       " 'ROYAL SON',\n",
       " 'Arnette',\n",
       " 'PHENOMENAL',\n",
       " 'kingsunglasses',\n",
       " 'Fastrack',\n",
       " 'Arnette',\n",
       " 'SUNBEE',\n",
       " 'GANSTA',\n",
       " 'PIRASO',\n",
       " 'Arnette',\n",
       " 'kingsunglasses',\n",
       " 'PIRASO',\n",
       " 'Silver Kartz',\n",
       " 'ROZZETTA CRAFT',\n",
       " 'Elligator',\n",
       " 'PIRASO',\n",
       " 'Fastrack',\n",
       " 'Arnette']"
      ]
     },
     "execution_count": 84,
     "metadata": {},
     "output_type": "execute_result"
    }
   ],
   "source": [
    "titles = driver.find_elements_by_xpath('//div[@class=\"_2WkVRV\"]')\n",
    "len(titles)\n",
    "titles[0:40]\n",
    "product_titles = []\n",
    "\n",
    "for i in titles:\n",
    "    product_titles.append(i.text)\n",
    "len(product_titles)\n",
    "product_titles[0:40]"
   ]
  },
  {
   "cell_type": "code",
   "execution_count": 85,
   "id": "7bb1758f",
   "metadata": {},
   "outputs": [
    {
     "data": {
      "text/plain": [
       "['UV Protection Rectangular Sunglasses (Free Size)',\n",
       " 'UV Protection Wayfarer Sunglasses (50)',\n",
       " 'UV Protection, Polarized Wayfarer Sunglasses (Free Size...',\n",
       " 'UV Protection Aviator Sunglasses (54)',\n",
       " 'Polarized, Night Vision, Riding Glasses Sports, Wrap-ar...',\n",
       " 'UV Protection Round Sunglasses (54)',\n",
       " 'Others Rectangular Sunglasses (56)',\n",
       " 'Riding Glasses Wrap-around Sunglasses (Free Size)',\n",
       " 'UV Protection Rectangular Sunglasses (Free Size)',\n",
       " 'UV Protection Aviator, Wayfarer Sunglasses (Free Size)',\n",
       " 'UV Protection, Riding Glasses, Mirrored Aviator Sunglas...',\n",
       " 'UV Protection Rectangular Sunglasses (Free Size)',\n",
       " 'UV Protection Wayfarer Sunglasses (55)',\n",
       " 'UV Protection Aviator Sunglasses (54)',\n",
       " 'Gradient, UV Protection Round Sunglasses (Free Size)',\n",
       " 'UV Protection, Polarized, Mirrored Rectangular Sunglass...',\n",
       " 'UV Protection Aviator Sunglasses (54)',\n",
       " 'UV Protection Rectangular Sunglasses (Free Size)',\n",
       " 'Mirrored Rectangular Sunglasses (58)',\n",
       " 'UV Protection, Riding Glasses Wayfarer Sunglasses (53)',\n",
       " 'Mirrored, UV Protection Wayfarer Sunglasses (Free Size)',\n",
       " 'Mirrored Aviator Sunglasses (Free Size)',\n",
       " 'Others Rectangular Sunglasses (55)',\n",
       " 'UV Protection Retro Square Sunglasses (53)',\n",
       " 'UV Protection, Riding Glasses, Mirrored Wayfarer Sungla...',\n",
       " 'Gradient, UV Protection Wayfarer Sunglasses (Free Size)',\n",
       " 'Others Oval Sunglasses (53)',\n",
       " 'UV Protection, Polarized, Mirrored Round Sunglasses (Fr...',\n",
       " 'UV Protection Aviator Sunglasses (57)',\n",
       " 'UV Protection Wayfarer Sunglasses (32)',\n",
       " 'Others Rectangular Sunglasses (56)',\n",
       " 'UV Protection Round Sunglasses (54)',\n",
       " 'UV Protection Butterfly Sunglasses (65)',\n",
       " 'UV Protection Wayfarer Sunglasses (Free Size)',\n",
       " 'UV Protection, Gradient Retro Square Sunglasses (Free S...',\n",
       " 'UV Protection Round Sunglasses (53)',\n",
       " 'UV Protection Aviator Sunglasses (Free Size)',\n",
       " 'UV Protection Wayfarer Sunglasses (Free Size)',\n",
       " 'Mirrored Retro Square Sunglasses (55)']"
      ]
     },
     "execution_count": 85,
     "metadata": {},
     "output_type": "execute_result"
    }
   ],
   "source": [
    "discription= driver.find_elements_by_xpath('//a[@class=\"IRpwTa\"]')\n",
    "len(discription)\n",
    "discription[0:40]\n",
    "product_discription = []\n",
    "\n",
    "for i in discription:\n",
    "    product_discription.append(i.text)\n",
    "len(product_discription)\n",
    "product_discription[0:40]"
   ]
  },
  {
   "cell_type": "code",
   "execution_count": 86,
   "id": "506472fd",
   "metadata": {},
   "outputs": [
    {
     "data": {
      "text/plain": [
       "['₹3,479₹5,49036% off',\n",
       " '₹6,649₹7,39010% off',\n",
       " '₹198₹1,29984% off',\n",
       " '₹253₹1,29980% off',\n",
       " '₹229₹1,59985% off',\n",
       " '₹474₹1,99976% off',\n",
       " '₹258₹2,49589% off',\n",
       " '₹4,199₹8,39049% off',\n",
       " '₹275₹2,49988% off',\n",
       " '₹232₹2,59991% off',\n",
       " '₹202₹1,19983% off',\n",
       " '₹1,349₹8,00083% off',\n",
       " '₹679₹79915% off\\nFree delivery',\n",
       " '₹225₹1,59985% off',\n",
       " '₹225₹1,59985% off',\n",
       " '₹426₹1,99578% off',\n",
       " '₹165₹1,69990% off',\n",
       " '₹225₹1,59985% off',\n",
       " '₹199₹99980% off',\n",
       " '₹2,549₹5,09049% off\\nFree delivery',\n",
       " '₹198₹1,79988% off',\n",
       " '₹239₹1,99988% off',\n",
       " '₹379₹1,49974% off',\n",
       " '₹4,199₹8,39049% off\\nFree delivery',\n",
       " '₹289₹99971% off',\n",
       " '₹184₹1,19984% off',\n",
       " '₹709₹89921% off\\nFree delivery',\n",
       " '₹3,199₹6,39049% off\\nFree delivery',\n",
       " '₹284₹1,69983% off',\n",
       " '₹284₹1,99985% off',\n",
       " '₹225₹1,59985% off',\n",
       " '₹2,899₹5,79049% off\\nFree delivery',\n",
       " '₹186₹99981% off',\n",
       " '₹375₹2,59985% off',\n",
       " '₹246₹1,49983% off',\n",
       " '₹307₹1,99984% off',\n",
       " '₹189₹99881% off',\n",
       " '₹299₹1,59981% off',\n",
       " '₹639₹79920% off',\n",
       " '₹2,549₹5,09049% off\\nFree delivery']"
      ]
     },
     "execution_count": 86,
     "metadata": {},
     "output_type": "execute_result"
    }
   ],
   "source": [
    "price = driver.find_elements_by_xpath('//a[@class=\"_3bPFwb\"]')\n",
    "len(price)\n",
    "price[0:40]\n",
    "product_price = []\n",
    "\n",
    "for i in price:\n",
    "    product_price.append(i.text)\n",
    "len(product_price)\n",
    "product_price[0:40]"
   ]
  },
  {
   "cell_type": "code",
   "execution_count": 87,
   "id": "6ee94049",
   "metadata": {},
   "outputs": [],
   "source": [
    "#extracting the next btn data and click on\n",
    "next_btn = driver.find_element_by_xpath(\"/html/body/div[1]/div/div[3]/div[1]/div[2]/div[12]/div/div/nav/a[11]\")\n",
    "next_btn\n",
    "next_btn.click()"
   ]
  },
  {
   "cell_type": "code",
   "execution_count": 88,
   "id": "6071e162",
   "metadata": {},
   "outputs": [
    {
     "data": {
      "text/plain": [
       "['kingsunglasses',\n",
       " 'SRPM',\n",
       " 'ROYAL SON',\n",
       " 'Ray-Ban',\n",
       " 'SHAAH COLLECTIONS',\n",
       " 'NuVew',\n",
       " 'SUNBEE',\n",
       " 'Ray-Ban',\n",
       " 'ROZZETTA CRAFT',\n",
       " 'ROYAL SON',\n",
       " 'kingsunglasses',\n",
       " 'Silver Kartz',\n",
       " 'New Specs',\n",
       " 'PIRASO',\n",
       " 'Silver Kartz',\n",
       " 'Ray-Ban',\n",
       " 'Lee Topper',\n",
       " 'SRPM',\n",
       " 'ROZZETTA CRAFT',\n",
       " 'Arnette',\n",
       " 'SHAAH COLLECTIONS',\n",
       " 'SRPM',\n",
       " 'kingsunglasses',\n",
       " 'VINCENT CHASE',\n",
       " 'Elligator',\n",
       " 'Rich Club',\n",
       " 'ROZZETTA CRAFT',\n",
       " 'Ray-Ban',\n",
       " 'New Specs',\n",
       " 'New Specs',\n",
       " 'PIRASO',\n",
       " 'povty',\n",
       " 'PHENOMENAL',\n",
       " 'IDEE',\n",
       " 'PHENOMENAL',\n",
       " 'Silver Kartz',\n",
       " 'Lee Topper',\n",
       " 'Singco India',\n",
       " 'ROYAL SON',\n",
       " 'Ray-Ban']"
      ]
     },
     "execution_count": 88,
     "metadata": {},
     "output_type": "execute_result"
    }
   ],
   "source": [
    "titles = driver.find_elements_by_xpath('//div[@class=\"_2WkVRV\"]')\n",
    "len(titles)\n",
    "titles[0:40]\n",
    "product_titles = []\n",
    "\n",
    "for i in titles:\n",
    "    product_titles.append(i.text)\n",
    "len(product_titles)\n",
    "product_titles[0:40]"
   ]
  },
  {
   "cell_type": "code",
   "execution_count": 89,
   "id": "e9541ff6",
   "metadata": {},
   "outputs": [
    {
     "data": {
      "text/plain": [
       "['UV Protection Round Sunglasses (Free Size)',\n",
       " 'UV Protection Wayfarer Sunglasses (53)',\n",
       " 'Mirrored Aviator Sunglasses (55)',\n",
       " 'UV Protection Rectangular Sunglasses (Free Size)',\n",
       " 'UV Protection, Polarized, Mirrored Rectangular Sunglass...',\n",
       " 'UV Protection Sports Sunglasses (62)',\n",
       " 'UV Protection, Polarized, Mirrored Retro Square Sunglas...',\n",
       " 'UV Protection Retro Square Sunglasses (Free Size)',\n",
       " 'Mirrored Aviator Sunglasses (55)',\n",
       " 'Mirrored, UV Protection Wayfarer, Rectangular Sunglasse...',\n",
       " 'UV Protection Clubmaster Sunglasses (53)',\n",
       " 'Mirrored, UV Protection, Riding Glasses, Others Round S...',\n",
       " 'UV Protection Aviator Sunglasses (58)',\n",
       " 'UV Protection Aviator Sunglasses (88)',\n",
       " 'Gradient Round Sunglasses (54)',\n",
       " 'Riding Glasses, Night Vision Wrap-around Sunglasses (Fr...',\n",
       " 'Others Wayfarer, Retro Square Sunglasses (50)',\n",
       " 'UV Protection, Gradient Rectangular Sunglasses (Free Si...',\n",
       " 'Mirrored Retro Square Sunglasses (56)',\n",
       " 'UV Protection Round Sunglasses (Free Size)',\n",
       " 'Night Vision, UV Protection Round Sunglasses (54)',\n",
       " 'UV Protection Rectangular Sunglasses (Free Size)',\n",
       " 'by Lenskart Polarized, UV Protection Aviator Sunglasses...',\n",
       " 'UV Protection Wayfarer Sunglasses (53)',\n",
       " 'Polarized Round Sunglasses (48)',\n",
       " 'UV Protection, Gradient Round Sunglasses (Free Size)',\n",
       " 'UV Protection, Mirrored Sports Sunglasses (Free Size)',\n",
       " 'UV Protection Aviator Sunglasses (Free Size)',\n",
       " 'UV Protection Butterfly Sunglasses (60)',\n",
       " 'UV Protection Retro Square Sunglasses (Free Size)',\n",
       " 'UV Protection Retro Square Sunglasses (Free Size)',\n",
       " 'UV Protection Rectangular Sunglasses (59)',\n",
       " 'UV Protection Clubmaster Sunglasses (Free Size)',\n",
       " 'UV Protection Wayfarer Sunglasses (Free Size)',\n",
       " 'UV Protection, Riding Glasses Retro Square, Spectacle ...',\n",
       " 'Riding Glasses, UV Protection, Others Aviator Sunglasse...',\n",
       " 'UV Protection Rectangular Sunglasses (58)']"
      ]
     },
     "execution_count": 89,
     "metadata": {},
     "output_type": "execute_result"
    }
   ],
   "source": [
    "discription= driver.find_elements_by_xpath('//a[@class=\"IRpwTa\"]')\n",
    "len(discription)\n",
    "discription[0:40]\n",
    "product_discription = []\n",
    "\n",
    "for i in discription:\n",
    "    product_discription.append(i.text)\n",
    "len(product_discription)\n",
    "product_discription[0:40]"
   ]
  },
  {
   "cell_type": "code",
   "execution_count": 90,
   "id": "61e903e8",
   "metadata": {},
   "outputs": [
    {
     "data": {
      "text/plain": [
       "['₹289₹1,59981% off',\n",
       " '₹220₹99877% off',\n",
       " '₹379₹1,49974% off',\n",
       " '₹3,479₹5,49036% off',\n",
       " '₹181₹99981% off',\n",
       " '₹327₹1,24573% off',\n",
       " '₹230₹1,29982% off',\n",
       " '₹6,649₹7,39010% off',\n",
       " '₹474₹2,22578% off',\n",
       " '₹379₹1,49974% off',\n",
       " '₹258₹1,99987% off',\n",
       " '₹367₹1,49975% off',\n",
       " '₹263₹1,39981% off',\n",
       " '₹349₹2,59986% off',\n",
       " '₹255₹1,19978% off',\n",
       " '₹8,089₹8,99010% off\\nFree delivery',\n",
       " '₹276₹2,49988% off',\n",
       " '₹178₹99982% off',\n",
       " '₹379₹1,99981% off',\n",
       " '₹2,549₹5,09049% off\\nFree delivery',\n",
       " '₹284₹1,69983% off',\n",
       " '₹199₹99980% off',\n",
       " '₹180₹1,09983% off',\n",
       " '₹980₹1,99950% off\\nFree delivery',\n",
       " '₹176₹1,49788% off',\n",
       " '₹175₹49964% off',\n",
       " '₹342₹1,99982% off',\n",
       " '₹8,449₹9,39010% off\\nFree delivery',\n",
       " '₹155₹1,29988% off',\n",
       " '₹183₹1,59988% off',\n",
       " '₹375₹2,59985% off',\n",
       " '₹299₹99970% off',\n",
       " '₹328₹1,99983% off',\n",
       " '₹1,009₹2,45058% off\\nFree delivery',\n",
       " '₹307₹1,99884% off',\n",
       " '₹246₹1,49983% off',\n",
       " '₹375₹1,29971% off',\n",
       " '₹219₹1,49985% off',\n",
       " '₹474₹1,49968% off',\n",
       " '₹7,999₹8,89010% off\\nFree delivery']"
      ]
     },
     "execution_count": 90,
     "metadata": {},
     "output_type": "execute_result"
    }
   ],
   "source": [
    "price = driver.find_elements_by_xpath('//a[@class=\"_3bPFwb\"]')\n",
    "len(price)\n",
    "price[0:40]\n",
    "product_price = []\n",
    "\n",
    "for i in price:\n",
    "    product_price.append(i.text)\n",
    "len(product_price)\n",
    "product_price[0:40]"
   ]
  },
  {
   "cell_type": "code",
   "execution_count": 91,
   "id": "1374eca5",
   "metadata": {},
   "outputs": [],
   "source": [
    "#extracting the next data for next page\n",
    "next_btn = driver.find_element_by_xpath(\"/html/body/div[1]/div/div[3]/div[1]/div[2]/div[12]/div/div/nav/a[12]\")\n",
    "next_btn\n",
    "next_btn.click()"
   ]
  },
  {
   "cell_type": "code",
   "execution_count": 92,
   "id": "46241007",
   "metadata": {},
   "outputs": [
    {
     "data": {
      "text/plain": [
       "['kingsunglasses',\n",
       " 'Fastrack',\n",
       " 'ROZZETTA CRAFT',\n",
       " 'Ray-Ban',\n",
       " 'Rich Club',\n",
       " 'PIRASO',\n",
       " 'kingsunglasses',\n",
       " 'Ray-Ban',\n",
       " 'ROYAL SON',\n",
       " 'United Colors of Benetton',\n",
       " 'hipe',\n",
       " 'Silver Kartz',\n",
       " 'PHENOMENAL',\n",
       " 'SUNBEE',\n",
       " 'Fastrack',\n",
       " 'Ray-Ban',\n",
       " 'Singco India',\n",
       " 'SUNBEE',\n",
       " 'kingsunglasses',\n",
       " 'ROZZETTA CRAFT']"
      ]
     },
     "execution_count": 92,
     "metadata": {},
     "output_type": "execute_result"
    }
   ],
   "source": [
    "titles = driver.find_elements_by_xpath('//div[@class=\"_2WkVRV\"]')\n",
    "len(titles)\n",
    "titles[0:20]\n",
    "product_titles = []\n",
    "\n",
    "for i in titles:\n",
    "    product_titles.append(i.text)\n",
    "len(product_titles)\n",
    "product_titles[0:20]"
   ]
  },
  {
   "cell_type": "code",
   "execution_count": 93,
   "id": "ea557dc1",
   "metadata": {},
   "outputs": [
    {
     "data": {
      "text/plain": [
       "['Mirrored, UV Protection Wayfarer Sunglasses (53)',\n",
       " 'Polarized Retro Square Sunglasses (Free Size)',\n",
       " 'UV Protection Aviator Sunglasses (62)',\n",
       " 'UV Protection Rectangular Sunglasses (Free Size)',\n",
       " 'UV Protection Round Sunglasses (48)',\n",
       " 'Mirrored Aviator Sunglasses (32)',\n",
       " 'Mirrored, UV Protection Aviator Sunglasses (56)',\n",
       " 'Polarized, UV Protection Aviator Sunglasses (58)',\n",
       " 'UV Protection Wayfarer Sunglasses (56)',\n",
       " 'Mirrored, UV Protection, Gradient Round Sunglasses (55)',\n",
       " 'UV Protection Clubmaster Sunglasses (53)',\n",
       " 'UV Protection, Mirrored Retro Square Sunglasses (53)',\n",
       " 'UV Protection, Polarized, Mirrored Wayfarer Sunglasses ...',\n",
       " 'UV Protection Shield Sunglasses (Free Size)',\n",
       " 'Gradient Round Sunglasses (54)',\n",
       " 'Mirrored, Riding Glasses, Others Sports Sunglasses (50)',\n",
       " 'UV Protection, Polarized, Mirrored Wayfarer Sunglasses ...',\n",
       " 'UV Protection, Others Round, Aviator Sunglasses (54)',\n",
       " 'UV Protection, Gradient Rectangular Sunglasses (Free Si...',\n",
       " 'Gradient, UV Protection Wayfarer Sunglasses (Free Size)']"
      ]
     },
     "execution_count": 93,
     "metadata": {},
     "output_type": "execute_result"
    }
   ],
   "source": [
    "discription= driver.find_elements_by_xpath('//a[@class=\"IRpwTa\"]')\n",
    "len(discription)\n",
    "discription[0:20]\n",
    "product_discription = []\n",
    "\n",
    "for i in discription:\n",
    "    product_discription.append(i.text)\n",
    "len(product_discription)\n",
    "product_discription[0:20]"
   ]
  },
  {
   "cell_type": "code",
   "execution_count": 94,
   "id": "28623318",
   "metadata": {},
   "outputs": [
    {
     "data": {
      "text/plain": [
       "['₹258₹1,99987% off',\n",
       " '₹639₹79920% off',\n",
       " '₹616₹2,55575% off',\n",
       " '₹3,479₹5,49036% off',\n",
       " '₹260₹79967% off',\n",
       " '₹199₹1,59987% off',\n",
       " '₹219₹1,29983% off',\n",
       " '₹6,649₹7,39010% off',\n",
       " '₹711₹1,99964% off\\nFree delivery',\n",
       " '₹949₹3,70074% off\\nFree delivery',\n",
       " '₹179₹1,46687% off',\n",
       " '₹367₹1,49975% off',\n",
       " '₹317₹1,99984% off',\n",
       " '₹253₹1,29980% off',\n",
       " '₹739₹89917% off\\nFree delivery',\n",
       " '₹8,089₹8,99010% off\\nFree delivery',\n",
       " '₹194₹1,49987% off',\n",
       " '₹247₹1,29980% off',\n",
       " '₹179₹99982% off',\n",
       " '₹426₹1,99978% off']"
      ]
     },
     "execution_count": 94,
     "metadata": {},
     "output_type": "execute_result"
    }
   ],
   "source": [
    "price = driver.find_elements_by_xpath('//a[@class=\"_3bPFwb\"]')\n",
    "len(price)\n",
    "price[0:20]\n",
    "product_price = []\n",
    "\n",
    "for i in price:\n",
    "    product_price.append(i.text)\n",
    "len(product_price)\n",
    "product_price[0:20]"
   ]
  },
  {
   "cell_type": "markdown",
   "id": "6389b256",
   "metadata": {},
   "source": [
    "q6...Scrape data for first 100 sneakers you find when you visit flipkart.com andsearch for “sneakers” in the\n",
    "search field.\n",
    "You have to scrape 4 attributes of each sneaker:\n",
    "1. Brand\n",
    "2. Product Description\n",
    "3. Price"
   ]
  },
  {
   "cell_type": "code",
   "execution_count": 111,
   "id": "b7536196",
   "metadata": {},
   "outputs": [],
   "source": [
    "#connecting webdriver\n",
    "driver = webdriver.Chrome(r'C:/Users/Hp/Downloads/chromedriver_win32/chromedriver.exe')\n",
    "driver = webdriver.Chrome(\"chromedriver.exe\")\n",
    "#getting url\n",
    "url = 'http://www.flipkart.com/'\n",
    "driver.get(url)"
   ]
  },
  {
   "cell_type": "code",
   "execution_count": 113,
   "id": "31e57210",
   "metadata": {},
   "outputs": [],
   "source": [
    "#extracting the element with sneakers\n",
    "search_product = driver.find_element_by_xpath(\"/html/body/div[1]/div/div[1]/div[1]/div[2]/div[2]/form/div/div/input\")\n",
    "search_product\n",
    "search_product.send_keys(\"sneakers\")\n",
    "#extracting the search btn data then clicking with click method\n",
    "search_btn = driver.find_element_by_xpath(\"/html/body/div[1]/div/div[1]/div[1]/div[2]/div[2]/form/div/button\")\n",
    "search_btn\n",
    "search_btn.click()"
   ]
  },
  {
   "cell_type": "code",
   "execution_count": 114,
   "id": "4dbdf832",
   "metadata": {},
   "outputs": [
    {
     "data": {
      "text/plain": [
       "['Chevit',\n",
       " 'Magnolia',\n",
       " 'DUNKASTON',\n",
       " 'BRUTON',\n",
       " 'World Wear Footwear',\n",
       " 'KWIK FIT',\n",
       " 'BRUTON',\n",
       " 'TR',\n",
       " 'URBANBOX',\n",
       " 'corsac',\n",
       " 'D-SNEAKERZ',\n",
       " 'Shoes Bank',\n",
       " 'BRUTON',\n",
       " 'Numenzo',\n",
       " 'BRUTON',\n",
       " 'BRUTON',\n",
       " 'Labbin',\n",
       " 'RapidBox',\n",
       " 'aadi',\n",
       " 'India hub',\n",
       " 'SCATCHITE',\n",
       " 'CLYMB',\n",
       " 'Magnolia',\n",
       " 'Kraasa',\n",
       " 'Stefano Rads',\n",
       " 'Chevit',\n",
       " 'Echor',\n",
       " 'Kzaara',\n",
       " 'Airland',\n",
       " 'luxury fashion',\n",
       " 'Kraasa',\n",
       " 'BRUTON',\n",
       " 'World Wear Footwear',\n",
       " 'India hub',\n",
       " 'Kraasa',\n",
       " 'Zsyto',\n",
       " 'World Wear Footwear',\n",
       " 'ASTEROID',\n",
       " 'Xtoon',\n",
       " 'Magnolia']"
      ]
     },
     "execution_count": 114,
     "metadata": {},
     "output_type": "execute_result"
    }
   ],
   "source": [
    "titles = driver.find_elements_by_xpath('//div[@class=\"_2WkVRV\"]')\n",
    "len(titles)\n",
    "titles[0:40]\n",
    "product_titles = []\n",
    "\n",
    "for i in titles:\n",
    "    product_titles.append(i.text)\n",
    "len(product_titles)\n",
    "product_titles[0:40]"
   ]
  },
  {
   "cell_type": "code",
   "execution_count": 115,
   "id": "80b1ef8c",
   "metadata": {},
   "outputs": [
    {
     "data": {
      "text/plain": [
       "['Super Stylish & Trendy Combo Pack of 02 Pairs Sneakers ...',\n",
       " 'Sneakers For Men',\n",
       " 'Sneakers For Men',\n",
       " 'Modern Trendy Sneakers Shoes Sneakers For Men',\n",
       " '5011-Latest Collection Stylish Casual Loafer Sneakers S...',\n",
       " 'Kwik FIT casual sneaker shoes and partywear shoes Casua...',\n",
       " 'Sneaker Sneakers For Men',\n",
       " 'Sneakers For Men',\n",
       " 'STYLISH MENS BLACK AND WHITE SNEAKER Sneakers For Men',\n",
       " \"Casual , Partywear Sneakers Shoes For Men's And Boys Wh...\",\n",
       " \"White Sneaker For Men's/Boy's Sneakers For Men\",\n",
       " 'Modern & Trendy Collection Combo Pack of 02 Shoes for M...',\n",
       " 'Sneakers For Men',\n",
       " 'Modern & Trendy Collection Combo Pack of 02 Shoes for M...',\n",
       " 'Lattest Sneakers Shoe Sneakers For Men',\n",
       " 'Sneakers For Men',\n",
       " 'Sneakers For Men',\n",
       " 'Luxury Fashionable casual sneaker shoes Sneakers For Me...',\n",
       " 'Sneakers For Men',\n",
       " 'Sneakers For Men',\n",
       " 'Sneakers For Men',\n",
       " 'Shark-41 Sneakers For Men',\n",
       " '516 Trendy Star Perfect Sneakers For Men',\n",
       " \"Men's Sneakers Fashion Lightweight Running Shoes Tennis...\",\n",
       " 'Sneakers For Men',\n",
       " 'sneaker men red 1258 - 6 Sneakers For Men',\n",
       " 'Sneakers For Men',\n",
       " 'Series 7 Sneakers For Men',\n",
       " 'Combo Pack Of 4 Casual Shoes Loafer Shoes Sneakers For ...',\n",
       " 'Latest Collection-1227 Stylish Casual Sports Sneakers F...',\n",
       " 'casual sneaker shoes for men kardam&sons Sneakers For M...',\n",
       " 'Men 5014 Latest Collection Stylish Casual Sports Loafer...',\n",
       " \"Original Luxury Branded Fashionable Men's Casual Walkin...\",\n",
       " \"white Casual shoes,Sneakers for men's Sneakers For Men\",\n",
       " 'Sneakers For Men']"
      ]
     },
     "execution_count": 115,
     "metadata": {},
     "output_type": "execute_result"
    }
   ],
   "source": [
    "discription= driver.find_elements_by_xpath('//a[@class=\"IRpwTa\"]')\n",
    "len(discription)\n",
    "discription[0:40]\n",
    "product_discription = []\n",
    "\n",
    "for i in discription:\n",
    "    product_discription.append(i.text)\n",
    "len(product_discription)\n",
    "product_discription[0:40]"
   ]
  },
  {
   "cell_type": "code",
   "execution_count": 116,
   "id": "15641ef1",
   "metadata": {},
   "outputs": [
    {
     "data": {
      "text/plain": [
       "['₹649₹1,59859% off',\n",
       " '₹448₹99955% off',\n",
       " '₹199₹1,49986% off',\n",
       " '₹259₹1,29980% off',\n",
       " '₹199₹49960% off',\n",
       " '₹399₹1,99980% off',\n",
       " '₹299₹1,29976% off',\n",
       " '₹322₹99967% off',\n",
       " '₹198₹99980% off',\n",
       " '₹449₹1,49970% off',\n",
       " '₹384₹65941% off',\n",
       " '₹298₹99970% off',\n",
       " '₹536₹2,49978% off\\nFree delivery',\n",
       " '₹649₹2,99978% off\\nFree delivery',\n",
       " '₹471₹2,49981% off',\n",
       " '₹299₹1,29976% off',\n",
       " '₹499₹99950% off',\n",
       " '₹680₹99931% off',\n",
       " '₹339₹99966% off',\n",
       " '₹425₹1,99978% off',\n",
       " '₹379₹99962% off',\n",
       " '₹616₹1,49958% off\\nFree delivery',\n",
       " '₹448₹99955% off',\n",
       " '₹444₹99955% off',\n",
       " '₹240₹69965% off',\n",
       " '₹259₹79967% off',\n",
       " '₹499₹99950% off',\n",
       " '₹259₹99974% off',\n",
       " '₹198₹49960% off',\n",
       " '₹489₹1,99975% off',\n",
       " '₹444₹99955% off',\n",
       " '₹699₹3,49980% off\\nFree delivery',\n",
       " '₹259₹49948% off',\n",
       " '₹449₹1,29965% off',\n",
       " '₹449₹99955% off',\n",
       " '₹311₹1,29976% off',\n",
       " '₹259₹49948% off',\n",
       " '₹474₹1,99976% off',\n",
       " '₹479₹1,49968% off',\n",
       " '₹448₹99955% off']"
      ]
     },
     "execution_count": 116,
     "metadata": {},
     "output_type": "execute_result"
    }
   ],
   "source": [
    "price = driver.find_elements_by_xpath('//a[@class=\"_3bPFwb\"]')\n",
    "len(price)\n",
    "price[0:40]\n",
    "product_price = []\n",
    "\n",
    "for i in price:\n",
    "    product_price.append(i.text)\n",
    "len(product_price)\n",
    "product_price[0:40]"
   ]
  },
  {
   "cell_type": "code",
   "execution_count": 117,
   "id": "3a471eb5",
   "metadata": {},
   "outputs": [],
   "source": [
    "#extracting the next btn data for next page\n",
    "next_btn = driver.find_element_by_xpath(\"/html/body/div[1]/div/div[3]/div[1]/div[2]/div[12]/div/div/nav/a[11]\")\n",
    "next_btn\n",
    "next_btn.click()"
   ]
  },
  {
   "cell_type": "code",
   "execution_count": 118,
   "id": "17826077",
   "metadata": {},
   "outputs": [
    {
     "data": {
      "text/plain": [
       "['BIRDE',\n",
       " 'RAFTAR FASHION',\n",
       " 'CLYMB',\n",
       " 'HRX by Hrithik Roshan',\n",
       " 'Robbie jones',\n",
       " 'Ktiz',\n",
       " 'RANZAG',\n",
       " 'Roadster',\n",
       " 'PUMA',\n",
       " 'Numenzo',\n",
       " 'ASIAN',\n",
       " 'RapidBox',\n",
       " 'Robbie jones',\n",
       " 'PUMA',\n",
       " 'Chevit',\n",
       " 'RapidBox',\n",
       " 'Robbie jones',\n",
       " 'D-SNEAKERZ',\n",
       " 'COZY2FOOTWEAR',\n",
       " 'Roadster',\n",
       " 'Dizzler',\n",
       " 'bluemaker',\n",
       " 'CAMPUS',\n",
       " 'HIGHLANDER',\n",
       " 'Echor',\n",
       " 'Trendmode',\n",
       " 'Hida',\n",
       " 'RapidBox',\n",
       " 'asics',\n",
       " 'Rzisbo',\n",
       " 'AMICO',\n",
       " 'HOTSTYLE',\n",
       " 'RapidBox',\n",
       " 'Vellinto',\n",
       " 'bluemaker',\n",
       " 'RapidBox',\n",
       " 'Bretton',\n",
       " 'Chevit',\n",
       " 'Numenzo',\n",
       " 'sixXplus']"
      ]
     },
     "execution_count": 118,
     "metadata": {},
     "output_type": "execute_result"
    }
   ],
   "source": [
    "titles = driver.find_elements_by_xpath('//div[@class=\"_2WkVRV\"]')\n",
    "len(titles)\n",
    "titles[0:40]\n",
    "product_titles = []\n",
    "\n",
    "for i in titles:\n",
    "    product_titles.append(i.text)\n",
    "len(product_titles)\n",
    "product_titles[0:40]"
   ]
  },
  {
   "cell_type": "code",
   "execution_count": 119,
   "id": "50af0e5f",
   "metadata": {},
   "outputs": [
    {
     "data": {
      "text/plain": [
       "['Sports Running Shoes Sneakers For Men',\n",
       " 'Sneakers For Men',\n",
       " \"Perfect Sports Shoes for Men's Running ,Cycling & Trekk...\",\n",
       " 'Men White Solid Sneakers Sneakers For Men',\n",
       " 'Sneakers For Men',\n",
       " 'Sneakers For Men',\n",
       " 'Running Shoes Stylish Comfortable Shoes For Men Sneaker...',\n",
       " 'Men Blue Solid Sneakers Sneakers For Men',\n",
       " 'BMW MMS Future Kart Cat Sneakers For Men',\n",
       " '411 Casual Sneakers For Men',\n",
       " 'Skypy-31 Walking Shoes,Training Shoes,Sneakers,Loafers,...',\n",
       " 'Casual Sneakers White Shoes For Men Sneakers For Men',\n",
       " 'RS-X WINTERIZED Sneakers For Men',\n",
       " 'Perfect & Affordable Combo Pack of 02 Pairs Sneakers Ou...',\n",
       " 'Sneakers For Men',\n",
       " \"Casual , Partywear Sneakers Shoes For Men's And Boys Wh...\",\n",
       " 'Men Blue Solid Sneakers Sneakers For Men',\n",
       " 'casual for men Sneakers For Men',\n",
       " 'EXPLORE Sneakers For Men',\n",
       " 'Sneakers For Men',\n",
       " \"Men's Sneakers Fashion Lightweight Running Shoes Tennis...\",\n",
       " 'Sneakers For Men',\n",
       " 'fuzor B Sneakers For Men',\n",
       " 'Sneakers For Men',\n",
       " 'Sneakers For Men',\n",
       " 'CR-1 Sneakers For Men',\n",
       " 'Casual Sneakrs For Men Sneakers For Men',\n",
       " 'casual for men Sneakers For Men',\n",
       " 'Sneakers For Men']"
      ]
     },
     "execution_count": 119,
     "metadata": {},
     "output_type": "execute_result"
    }
   ],
   "source": [
    "discription= driver.find_elements_by_xpath('//a[@class=\"IRpwTa\"]')\n",
    "len(discription)\n",
    "discription[0:40]\n",
    "product_discription = []\n",
    "\n",
    "for i in discription:\n",
    "    product_discription.append(i.text)\n",
    "len(product_discription)\n",
    "product_discription[0:40]"
   ]
  },
  {
   "cell_type": "code",
   "execution_count": 120,
   "id": "670a5b34",
   "metadata": {},
   "outputs": [
    {
     "data": {
      "text/plain": [
       "['₹299₹49940% off',\n",
       " '₹699₹99930% off',\n",
       " '₹249₹99975% off',\n",
       " '₹2,199₹4,19947% off',\n",
       " '₹499₹99950% off',\n",
       " '₹474₹99952% off',\n",
       " '₹395₹99960% off',\n",
       " '₹1,499₹3,29954% off',\n",
       " '₹4,059₹6,99942% off\\nFree delivery',\n",
       " '₹474₹1,99976% off',\n",
       " '₹498₹79937% off',\n",
       " '₹630₹99936% off',\n",
       " '₹499₹99950% off',\n",
       " '₹4,048₹8,99955% off\\nFree delivery',\n",
       " '₹549₹1,79869% off\\nFree delivery',\n",
       " '₹680₹99931% off',\n",
       " '₹499₹99950% off',\n",
       " '₹384₹99961% off',\n",
       " '₹499₹1,49966% off\\nFree delivery',\n",
       " '₹1,299₹2,79953% off\\nFree delivery',\n",
       " '₹495₹71931% off',\n",
       " '₹499₹99950% off',\n",
       " '₹1,329₹1,89930% off\\nFree delivery',\n",
       " '₹995₹1,99050% off\\nFree delivery',\n",
       " '₹499₹99950% off',\n",
       " '₹259₹69962% off',\n",
       " '₹616₹99938% off\\nFree delivery',\n",
       " '₹630₹99936% off',\n",
       " '₹2,086₹3,79945% off\\nFree delivery',\n",
       " '₹539₹99946% off\\nFree delivery',\n",
       " '₹499₹99950% off',\n",
       " '₹252₹49949% off',\n",
       " '₹680₹99931% off',\n",
       " '₹711₹1,29945% off\\nFree delivery',\n",
       " '₹499₹99950% off',\n",
       " '₹640₹99935% off',\n",
       " '₹251₹1,99987% off',\n",
       " '₹624₹2,39773% off\\nFree delivery',\n",
       " '₹429₹1,29966% off',\n",
       " '₹474₹99952% off\\nFree delivery']"
      ]
     },
     "execution_count": 120,
     "metadata": {},
     "output_type": "execute_result"
    }
   ],
   "source": [
    "price = driver.find_elements_by_xpath('//a[@class=\"_3bPFwb\"]')\n",
    "len(price)\n",
    "price[0:40]\n",
    "product_price = []\n",
    "\n",
    "for i in price:\n",
    "    product_price.append(i.text)\n",
    "len(product_price)\n",
    "product_price[0:40]"
   ]
  },
  {
   "cell_type": "code",
   "execution_count": 121,
   "id": "bdd292f3",
   "metadata": {},
   "outputs": [],
   "source": [
    "#extracting the next button data to click for next page by click method \n",
    "next_btn = driver.find_element_by_xpath(\"/html/body/div[1]/div/div[3]/div[1]/div[2]/div[12]/div/div/nav/a[12]\")\n",
    "next_btn\n",
    "next_btn.click()"
   ]
  },
  {
   "cell_type": "code",
   "execution_count": 123,
   "id": "6671927d",
   "metadata": {},
   "outputs": [
    {
     "data": {
      "text/plain": [
       "['Nilatin',\n",
       " 'ESSENCE',\n",
       " 'Zorth',\n",
       " 'Roadster',\n",
       " 'T-ROCK',\n",
       " 'CLYMB',\n",
       " 'BRUTON',\n",
       " 'AMICO',\n",
       " 'Zorth',\n",
       " 'CLYMB',\n",
       " 'ESSENCE',\n",
       " 'RapidBox',\n",
       " 'Robbie jones',\n",
       " 'Arohi',\n",
       " 'EMPTILE',\n",
       " 'RapidBox',\n",
       " 'Noztile',\n",
       " 'SPARX',\n",
       " 'WHITE WALKERS',\n",
       " 'CLYMB']"
      ]
     },
     "execution_count": 123,
     "metadata": {},
     "output_type": "execute_result"
    }
   ],
   "source": [
    "titles = driver.find_elements_by_xpath('//div[@class=\"_2WkVRV\"]')\n",
    "len(titles)\n",
    "titles[0:20]\n",
    "product_titles = []\n",
    "\n",
    "for i in titles:\n",
    "    product_titles.append(i.text)\n",
    "len(product_titles)\n",
    "product_titles[0:20]"
   ]
  },
  {
   "cell_type": "code",
   "execution_count": 124,
   "id": "cf660d37",
   "metadata": {},
   "outputs": [
    {
     "data": {
      "text/plain": [
       "['Sneakers For Men',\n",
       " 'Sneakers For Men',\n",
       " 'Sneakers For Men',\n",
       " 'Men Blue Solid Sneakers Sneakers For Men',\n",
       " 'Stylish White Casual Sneakers shoes Men and Boys Sneake...',\n",
       " 'Khalifa/Walking/Outdoor/Sneakers Sneakers For Men',\n",
       " 'Combo Pack Of 4 Casual Sneakers For Men',\n",
       " 'Sneakers For Men',\n",
       " 'New Fashion Outdoor Trendy Lightweight Casual,Canvas St...',\n",
       " 'Sneakers For Men',\n",
       " 'Sneakers For Men',\n",
       " 'Sneakers For Men',\n",
       " 'all white heartbeat casual shoe Sneakers For Men',\n",
       " 'Sneakers For Men',\n",
       " 'Stylish & Trending Outdoor Walking Comfortable Sneakers...',\n",
       " \"Perfect Sports Shoes for Men's Running ,Cycling & Trekk...\",\n",
       " 'Sneakers For Men',\n",
       " 'Men Blue Solid Sneakers Sneakers For Men',\n",
       " 'casual sneakers shoes For Mens Multicolor Combo(MR)-179...',\n",
       " 'PANAL Sneakers For Men']"
      ]
     },
     "execution_count": 124,
     "metadata": {},
     "output_type": "execute_result"
    }
   ],
   "source": [
    "discription= driver.find_elements_by_xpath('//a[@class=\"IRpwTa\"]')\n",
    "len(discription)\n",
    "discription[0:20]\n",
    "product_discription = []\n",
    "\n",
    "for i in discription:\n",
    "    product_discription.append(i.text)\n",
    "len(product_discription)\n",
    "product_discription[0:20]"
   ]
  },
  {
   "cell_type": "code",
   "execution_count": 125,
   "id": "992949ef",
   "metadata": {},
   "outputs": [
    {
     "data": {
      "text/plain": [
       "['₹649₹2,99978% off',\n",
       " '₹512₹99948% off',\n",
       " '₹447₹99955% off',\n",
       " '₹1,499₹3,29954% off',\n",
       " '₹399₹99960% off',\n",
       " '₹616₹1,49958% off',\n",
       " '₹471₹3,99988% off',\n",
       " '₹499₹99950% off',\n",
       " '₹435₹99956% off',\n",
       " '₹616₹1,49958% off\\nFree delivery',\n",
       " '₹569₹99943% off\\nFree delivery',\n",
       " '₹680₹99931% off',\n",
       " '₹499₹99950% off',\n",
       " '₹430₹99956% off',\n",
       " '₹397₹99960% off',\n",
       " '₹630₹99936% off',\n",
       " '₹399₹1,99980% off',\n",
       " '₹849\\nFree delivery',\n",
       " '₹599₹1,19850% off\\nFree delivery',\n",
       " '₹249₹99975% off']"
      ]
     },
     "execution_count": 125,
     "metadata": {},
     "output_type": "execute_result"
    }
   ],
   "source": [
    "price = driver.find_elements_by_xpath('//a[@class=\"_3bPFwb\"]')\n",
    "len(price)\n",
    "price[0:20]\n",
    "product_price = []\n",
    "\n",
    "for i in price:\n",
    "    product_price.append(i.text)\n",
    "len(product_price)\n",
    "product_price[0:20]"
   ]
  },
  {
   "cell_type": "markdown",
   "id": "8136e268",
   "metadata": {},
   "source": [
    "Q7: Go to the link - https://www.myntra.com/shoes\n",
    "Set Price filter to “Rs. 7149 to Rs. 14099 ” , Color filter to “Black”,\n",
    "And then scrape First 100 shoes data you get. The data should include “Brand” of the shoes , Short Shoe\n",
    "description"
   ]
  },
  {
   "cell_type": "code",
   "execution_count": 126,
   "id": "67c4480a",
   "metadata": {},
   "outputs": [],
   "source": [
    "#connecting webdriver\n",
    "driver = webdriver.Chrome(r'C:/Users/Hp/Downloads/chromedriver_win32/chromedriver.exe')\n",
    "driver = webdriver.Chrome(\"chromedriver.exe\")\n",
    "#geting url\n",
    "url = 'http://www.myntra.com/shoes'\n",
    "driver.get(url)"
   ]
  },
  {
   "cell_type": "code",
   "execution_count": 130,
   "id": "18200fa3",
   "metadata": {},
   "outputs": [],
   "source": [
    "#extracting price filter data and clicking on it \n",
    "price_filter = driver.find_element_by_xpath(\"/html/body/div[2]/div/div[1]/main/div[3]/div[1]/section/div/div[5]/ul/li[2]/label/div\")\n",
    "price_filter.click()"
   ]
  },
  {
   "cell_type": "code",
   "execution_count": 131,
   "id": "c59172b6",
   "metadata": {},
   "outputs": [
    {
     "data": {
      "text/plain": [
       "<selenium.webdriver.remote.webelement.WebElement (session=\"ab205d0f5dd8d9a08ab3d8c2c97520b1\", element=\"645ab840-eac4-4ddc-ba05-29153a64e83a\")>"
      ]
     },
     "execution_count": 131,
     "metadata": {},
     "output_type": "execute_result"
    }
   ],
   "source": [
    "#extracting colour filter and applying it \n",
    "colour_filter = driver.find_element_by_xpath(\"/html/body/div[2]/div/div[1]/main/div[3]/div[1]/section/div/div[6]/ul/li[1]/label/div\")\n",
    "colour_filter"
   ]
  },
  {
   "cell_type": "code",
   "execution_count": 129,
   "id": "27bb07c2",
   "metadata": {},
   "outputs": [],
   "source": [
    "colour_filter.click()"
   ]
  },
  {
   "cell_type": "code",
   "execution_count": 133,
   "id": "a653649f",
   "metadata": {},
   "outputs": [
    {
     "data": {
      "text/plain": [
       "['ALDO',\n",
       " 'Nike',\n",
       " 'ALDO',\n",
       " 'ALDO',\n",
       " 'Puma',\n",
       " 'Puma',\n",
       " 'Puma',\n",
       " 'Puma',\n",
       " 'Hush Puppies',\n",
       " 'ASICS',\n",
       " 'Nike',\n",
       " 'Puma',\n",
       " 'MANGO',\n",
       " 'Hush Puppies',\n",
       " 'Puma',\n",
       " 'Skechers',\n",
       " 'Hush Puppies',\n",
       " 'Hush Puppies',\n",
       " 'Puma',\n",
       " 'Puma',\n",
       " 'J.FONTINI',\n",
       " 'TRIBAN By Decathlon',\n",
       " 'Hush Puppies',\n",
       " 'Saint G',\n",
       " 'Tommy Hilfiger',\n",
       " 'Tommy Hilfiger',\n",
       " 'Bugatti',\n",
       " 'Tommy Hilfiger',\n",
       " 'Saint G',\n",
       " 'ALDO',\n",
       " 'Heel & Buckle London',\n",
       " 'Geox',\n",
       " 'J.FONTINI',\n",
       " 'ALDO',\n",
       " 'J.FONTINI',\n",
       " 'ALDO',\n",
       " 'J.FONTINI',\n",
       " 'MANGO',\n",
       " 'DAVINCHI',\n",
       " 'Sole To Soul',\n",
       " 'Sole To Soul',\n",
       " 'Sole To Soul',\n",
       " 'ROSSO BRUNELLO',\n",
       " 'Bugatti',\n",
       " 'Sole To Soul',\n",
       " 'Bugatti',\n",
       " 'Geox',\n",
       " 'ROSSO BRUNELLO',\n",
       " 'ROSSO BRUNELLO',\n",
       " 'Heel & Buckle London']"
      ]
     },
     "execution_count": 133,
     "metadata": {},
     "output_type": "execute_result"
    }
   ],
   "source": [
    "titles = driver.find_elements_by_xpath('//h3[@class=\"product-brand\"]')\n",
    "len(titles)\n",
    "titles[0:50]\n",
    "product_titles = []\n",
    "\n",
    "for i in titles:\n",
    "    product_titles.append(i.text)\n",
    "len(product_titles)\n",
    "product_titles[0:50]"
   ]
  },
  {
   "cell_type": "code",
   "execution_count": 134,
   "id": "cc7d6c82",
   "metadata": {},
   "outputs": [
    {
     "data": {
      "text/plain": [
       "['Men Printed Sneakers',\n",
       " 'Men Winflo 7 Running Shoes',\n",
       " 'Men Leather Driving Shoes',\n",
       " 'Men Woven Design Sneakers',\n",
       " 'Men Magnify Nitro Running',\n",
       " 'Electrify Nitro Running Shoes',\n",
       " 'Eternity Nitro Running Shoes',\n",
       " 'Men Jamming 2.0 Running Shoes',\n",
       " 'Men Solid Leather Formal Slip-Ons',\n",
       " 'Women Running Shoes',\n",
       " 'Men Air Max Dawn Sneakers',\n",
       " 'Men Training or Gym Shoes',\n",
       " 'Women Solid Sneakers',\n",
       " 'Men Formal Derbys',\n",
       " 'Men FUSE Training Shoes',\n",
       " 'Men Go Run Hyper Burst Running',\n",
       " 'Men Solid Leather Formal Slip-Ons',\n",
       " 'Men Solid Formal Slip-Ons',\n",
       " 'Women Eternity NITRO Shoes',\n",
       " 'Women Velocity NITRO Runners',\n",
       " 'Men Black Leather Loafers',\n",
       " 'Unisex Training or Gym Shoes',\n",
       " 'Men Solid Leather Formal Derbys',\n",
       " 'Men Mid-Top Chelsea Boots',\n",
       " 'Leather Sandals',\n",
       " 'Women CLEAT Textured Sneakers',\n",
       " 'Men Textured Leather High-Top Flat Boots',\n",
       " 'Men Cleated Leather Sneakers',\n",
       " 'Women Leather Block Heels',\n",
       " 'Wedge Sandals',\n",
       " 'Men Suede Loafers',\n",
       " 'Men Leather Driving Shoes',\n",
       " 'Men Solid Loafers',\n",
       " 'Leather Slim Heels',\n",
       " 'Men Textured Leather Loafers',\n",
       " 'Wedge Sandals',\n",
       " 'Men Textured Leather Loafers',\n",
       " 'Women Heeled Leather Loafers',\n",
       " 'Men Textured Formal Leather Loafers',\n",
       " 'Women Block Heeled Boots',\n",
       " 'High-Top Block Heeled Boots',\n",
       " 'Suede High-Top Block Heeled Boots',\n",
       " 'Printed PU Kitten Sandals',\n",
       " 'Men Solid Formal Oxfords',\n",
       " 'High-Top Platform Heeled Boots',\n",
       " 'Men Solid Leather Formal Derbys',\n",
       " 'Women Leather Pumps',\n",
       " 'PU Block Pumps with Buckles',\n",
       " 'PU Block Pumps with Buckles',\n",
       " 'Men Formal Leather Derby']"
      ]
     },
     "execution_count": 134,
     "metadata": {},
     "output_type": "execute_result"
    }
   ],
   "source": [
    "discription= driver.find_elements_by_xpath('//h4[@class=\"product-product\"]')\n",
    "len(discription)\n",
    "discription[0:50]\n",
    "product_discription = []\n",
    "\n",
    "for i in discription:\n",
    "    product_discription.append(i.text)\n",
    "len(product_discription)\n",
    "product_discription[0:50]"
   ]
  },
  {
   "cell_type": "code",
   "execution_count": 136,
   "id": "d32346dc",
   "metadata": {},
   "outputs": [
    {
     "data": {
      "text/plain": [
       "['Rs. 9099Rs. 12999(30% OFF)',\n",
       " 'Rs. 7995',\n",
       " 'Rs. 12999',\n",
       " 'Rs. 13999',\n",
       " 'Rs. 7149Rs. 12999(45% OFF)',\n",
       " 'Rs. 9999',\n",
       " 'Rs. 12999',\n",
       " 'Rs. 12999',\n",
       " 'Rs. 7649Rs. 8999(15% OFF)',\n",
       " 'Rs. 7999',\n",
       " 'Rs. 10995',\n",
       " 'Rs. 7999',\n",
       " 'Rs. 8990',\n",
       " 'Rs. 8499Rs. 9999(15% OFF)',\n",
       " 'Rs. 7999',\n",
       " 'Rs. 7224Rs. 8499(15% OFF)',\n",
       " 'Rs. 8499Rs. 9999(15% OFF)',\n",
       " 'Rs. 8499Rs. 9999(15% OFF)',\n",
       " 'Rs. 9099Rs. 12999(30% OFF)',\n",
       " 'Rs. 8249Rs. 10999(25% OFF)',\n",
       " 'Rs. 8490',\n",
       " 'Rs. 8579Rs. 10999(22% OFF)',\n",
       " 'Rs. 8499Rs. 9999(15% OFF)',\n",
       " 'Rs. 10500Rs. 10900(Rs. 400 OFF)',\n",
       " 'Rs. 7599',\n",
       " 'Rs. 7739Rs. 8599(10% OFF)',\n",
       " 'Rs. 8399Rs. 11999(30% OFF)',\n",
       " 'Rs. 7739Rs. 8599(10% OFF)',\n",
       " 'Rs. 9500',\n",
       " 'Rs. 7999',\n",
       " 'Rs. 12990',\n",
       " 'Rs. 9499',\n",
       " 'Rs. 8990',\n",
       " 'Rs. 8399Rs. 11999(30% OFF)',\n",
       " 'Rs. 8490',\n",
       " 'Rs. 7999',\n",
       " 'Rs. 7990',\n",
       " 'Rs. 7990',\n",
       " 'Rs. 8990',\n",
       " 'Rs. 8900',\n",
       " 'Rs. 7900',\n",
       " 'Rs. 9500',\n",
       " 'Rs. 8499',\n",
       " 'Rs. 8999',\n",
       " 'Rs. 8900',\n",
       " 'Rs. 9499',\n",
       " 'Rs. 8999',\n",
       " 'Rs. 7999',\n",
       " 'Rs. 7499',\n",
       " 'Rs. 7990']"
      ]
     },
     "execution_count": 136,
     "metadata": {},
     "output_type": "execute_result"
    }
   ],
   "source": [
    "price = driver.find_elements_by_xpath('//div[@class=\"product-price\"]')\n",
    "len(price)\n",
    "price[0:50]\n",
    "product_price = []\n",
    "\n",
    "for i in price:\n",
    "    product_price.append(i.text)\n",
    "len(product_price)\n",
    "product_price[0:50]"
   ]
  },
  {
   "cell_type": "code",
   "execution_count": 137,
   "id": "af588c93",
   "metadata": {},
   "outputs": [],
   "source": [
    "#extracting the next btn data for next page  \n",
    "next_btn = driver.find_element_by_xpath(\"/html/body/div[2]/div/div[1]/main/div[3]/div[2]/div/div[2]/section/div[2]/ul/li[12]\")\n",
    "next_btn\n",
    "next_btn.click()"
   ]
  },
  {
   "cell_type": "code",
   "execution_count": 138,
   "id": "ad2ff19e",
   "metadata": {},
   "outputs": [
    {
     "data": {
      "text/plain": [
       "['Heel & Buckle London',\n",
       " 'Saint G',\n",
       " 'fitflop',\n",
       " 'ROSSO BRUNELLO',\n",
       " 'Cobblerz',\n",
       " 'Saint G',\n",
       " 'New Balance',\n",
       " 'Columbia',\n",
       " 'Columbia',\n",
       " 'Cole Haan',\n",
       " 'Columbia',\n",
       " 'Xtep',\n",
       " 'Saint G',\n",
       " 'Geox',\n",
       " 'Geox',\n",
       " 'Cole Haan',\n",
       " 'Geox',\n",
       " 'Cole Haan',\n",
       " 'Geox',\n",
       " 'Cole Haan',\n",
       " 'Nike',\n",
       " 'Royal Enfield',\n",
       " 'Saint G',\n",
       " 'ASICS',\n",
       " 'Saint G',\n",
       " 'Saint G',\n",
       " 'Sole To Soul',\n",
       " 'J.FONTINI',\n",
       " 'Pavers England',\n",
       " 'J.FONTINI',\n",
       " 'Saint G',\n",
       " 'Saint G',\n",
       " 'DAVINCHI',\n",
       " 'Saint G',\n",
       " 'J.FONTINI',\n",
       " 'Saint G',\n",
       " 'DAVINCHI',\n",
       " 'Saint G',\n",
       " 'Saint G',\n",
       " 'DAVINCHI',\n",
       " 'Saint G',\n",
       " 'J.FONTINI',\n",
       " 'Saint G',\n",
       " 'ASICS',\n",
       " 'Saint G',\n",
       " 'DAVINCHI',\n",
       " 'Saint G',\n",
       " 'Saint G',\n",
       " 'Saint G',\n",
       " 'Saint G']"
      ]
     },
     "execution_count": 138,
     "metadata": {},
     "output_type": "execute_result"
    }
   ],
   "source": [
    "titles = driver.find_elements_by_xpath('//h3[@class=\"product-brand\"]')\n",
    "len(titles)\n",
    "titles[0:50]\n",
    "product_titles = []\n",
    "\n",
    "for i in titles:\n",
    "    product_titles.append(i.text)\n",
    "len(product_titles)\n",
    "product_titles[0:50]"
   ]
  },
  {
   "cell_type": "code",
   "execution_count": 139,
   "id": "995b1a93",
   "metadata": {},
   "outputs": [
    {
     "data": {
      "text/plain": [
       "['Men Formal Leather Derby',\n",
       " 'Striped Suede Flatform Heeled Boots',\n",
       " 'Embellished Leather Flatform Sandals',\n",
       " 'Textured PU Block Pumps',\n",
       " 'Men Textured Leather Formal Derbys',\n",
       " 'Leather Party Block Mules',\n",
       " 'Women Woven Running Shoes',\n",
       " 'Women REDMOND V2 TrekkingShoe',\n",
       " 'PEAKFREAK OUTDRY Trekking Shoe',\n",
       " 'Men GENERATION ZEROGRAND STITCHLITE',\n",
       " 'Men FACET OUTDRY Trekking Shoe',\n",
       " 'Men Running Shoes',\n",
       " 'Women Leather Mules',\n",
       " 'Women Solid Leather Pumps',\n",
       " 'Women Solid Leather Pumps',\n",
       " 'Women Open Toe Flats',\n",
       " 'Men Leather Loafers',\n",
       " 'Women Sneakers',\n",
       " 'Women Solid Leather Ballerinas',\n",
       " 'Women Solid Leather Ballerinas',\n",
       " 'Women WINFLO 7 Running Shoes',\n",
       " 'Cabo WP Riding Boots',\n",
       " 'Leather Heeled Knee High Boots',\n",
       " 'Men Colourblocked PU Sneakers',\n",
       " 'Women Leather Heeled Boots',\n",
       " 'Women Leather Knee High Boots',\n",
       " 'Platform Peep Toes with Buckles',\n",
       " 'Men Leather Formal Loafers',\n",
       " 'Men Leather Driving Shoes',\n",
       " 'Men Leather Formal Loafers',\n",
       " 'Leather Wedge Heeled Boots with Buckles',\n",
       " 'Leather Kitten Heeled Boots',\n",
       " 'Ustraa black',\n",
       " 'Leather High-Top Block Heeled Boots',\n",
       " 'Men Solid Leather Formal Loafers',\n",
       " 'Printed Flatform Heeled Boots with Buckles',\n",
       " 'Men Formal Leather Slip-Ons',\n",
       " 'Leather Platform Heeled Boots',\n",
       " 'Leather Block Heeled Boots with Bows',\n",
       " 'Solid Slip On Shoes',\n",
       " 'Suede Party High-Top Block Heeled Boots',\n",
       " 'Men Textured Leather Formal Loafers',\n",
       " 'Leather High-Top Heeled Boots',\n",
       " 'Men Gel-Pulse 12 Running Shoe',\n",
       " 'Suede High-Top Flatform Heeled Boots',\n",
       " 'Men Textured Formal Leather Loafers',\n",
       " 'Leather Boots with Buckles',\n",
       " 'High-Top Block Heeled Boots',\n",
       " 'Embellished Leather Block Heeled Boots',\n",
       " 'Women High-Top Heeled Boots']"
      ]
     },
     "execution_count": 139,
     "metadata": {},
     "output_type": "execute_result"
    }
   ],
   "source": [
    "discription= driver.find_elements_by_xpath('//h4[@class=\"product-product\"]')\n",
    "len(discription)\n",
    "discription[0:50]\n",
    "product_discription = []\n",
    "\n",
    "for i in discription:\n",
    "    product_discription.append(i.text)\n",
    "len(product_discription)\n",
    "product_discription[0:50]"
   ]
  },
  {
   "cell_type": "code",
   "execution_count": 140,
   "id": "72db5faf",
   "metadata": {},
   "outputs": [
    {
     "data": {
      "text/plain": [
       "['Rs. 7990',\n",
       " 'Rs. 8415Rs. 9900(15% OFF)',\n",
       " 'Rs. 8299',\n",
       " 'Rs. 7999',\n",
       " 'Rs. 8999Rs. 9999(Rs. 1000 OFF)',\n",
       " 'Rs. 7380Rs. 8200(10% OFF)',\n",
       " 'Rs. 7799Rs. 12999(40% OFF)',\n",
       " 'Rs. 7999',\n",
       " 'Rs. 9999',\n",
       " 'Rs. 11999',\n",
       " 'Rs. 12999',\n",
       " 'Rs. 7699',\n",
       " 'Rs. 7216Rs. 8200(12% OFF)',\n",
       " 'Rs. 7999',\n",
       " 'Rs. 10990',\n",
       " 'Rs. 11999',\n",
       " 'Rs. 9999',\n",
       " 'Rs. 12999',\n",
       " 'Rs. 8999',\n",
       " 'Rs. 13999',\n",
       " 'Rs. 7195Rs. 7995(10% OFF)',\n",
       " 'Rs. 8500',\n",
       " 'Rs. 12325Rs. 14500(15% OFF)',\n",
       " 'Rs. 9999',\n",
       " 'Rs. 14025Rs. 16500(15% OFF)',\n",
       " 'Rs. 11815Rs. 13900(15% OFF)',\n",
       " 'Rs. 7690',\n",
       " 'Rs. 7490',\n",
       " 'Rs. 7499',\n",
       " 'Rs. 7490',\n",
       " 'Rs. 12665Rs. 14900(15% OFF)',\n",
       " 'Rs. 9900',\n",
       " 'Rs. 8990',\n",
       " 'Rs. 14025Rs. 16500(15% OFF)',\n",
       " 'Rs. 9990',\n",
       " 'Rs. 8415Rs. 9900(15% OFF)',\n",
       " 'Rs. 8990',\n",
       " 'Rs. 9810Rs. 10900(10% OFF)',\n",
       " 'Rs. 12510Rs. 13900(10% OFF)',\n",
       " 'Rs. 7990',\n",
       " 'Rs. 8925Rs. 10500(15% OFF)',\n",
       " 'Rs. 8990',\n",
       " 'Rs. 10625Rs. 12500(15% OFF)',\n",
       " 'Rs. 7199Rs. 7999(10% OFF)',\n",
       " 'Rs. 11475Rs. 13500(15% OFF)',\n",
       " 'Rs. 8990',\n",
       " 'Rs. 8925Rs. 10500(15% OFF)',\n",
       " 'Rs. 10625Rs. 12500(15% OFF)',\n",
       " 'Rs. 7869Rs. 12900(39% OFF)',\n",
       " 'Rs. 12093Rs. 13900(13% OFF)']"
      ]
     },
     "execution_count": 140,
     "metadata": {},
     "output_type": "execute_result"
    }
   ],
   "source": [
    "price = driver.find_elements_by_xpath('//div[@class=\"product-price\"]')\n",
    "len(price)\n",
    "price[0:50]\n",
    "product_price = []\n",
    "\n",
    "for i in price:\n",
    "    product_price.append(i.text)\n",
    "len(product_price)\n",
    "product_price[0:50]"
   ]
  },
  {
   "cell_type": "markdown",
   "id": "97666ab7",
   "metadata": {},
   "source": [
    "q8...Go to webpage https://www.amazon.in/\n",
    "Enter “Laptop” in the search field and then click the search icon.\n",
    "Then set CPU Type filter to “Intel Core i7” and “Intel Core i9” \n",
    "After setting the filters scrape first 10 laptops data. You have to scrape 3 attributesfor each laptop:\n",
    "1. Title\n",
    "2. Ratings\n",
    "3. Price\n"
   ]
  },
  {
   "cell_type": "code",
   "execution_count": 16,
   "id": "f8128b86",
   "metadata": {},
   "outputs": [],
   "source": [
    "#connecting webdriver\n",
    "driver = webdriver.Chrome(r'C:/Users/Hp/Downloads/chromedriver_win32/chromedriver.exe')\n",
    "driver = webdriver.Chrome(\"chromedriver.exe\")\n",
    "#getting url\n",
    "url = 'https://www.amazon.in/'\n",
    "driver.get(url)"
   ]
  },
  {
   "cell_type": "code",
   "execution_count": 17,
   "id": "d7e3f86c",
   "metadata": {},
   "outputs": [],
   "source": [
    "#extracting search element with laptop\n",
    "search_product = driver.find_element_by_xpath(\"/html/body/div[1]/header/div/div[1]/div[2]/div/form/div[2]/div[1]/input\")\n",
    "search_product\n",
    "search_product.send_keys(\"Laptop\")\n",
    "#extracting the search btn element and clicking with click method\n",
    "search_btn = driver.find_element_by_xpath(\"/html/body/div[1]/header/div/div[1]/div[2]/div/form/div[3]/div\")\n",
    "search_btn\n",
    "search_btn.click()"
   ]
  },
  {
   "cell_type": "code",
   "execution_count": 19,
   "id": "a4d40e76",
   "metadata": {},
   "outputs": [],
   "source": [
    "#extracting the data of i7 and clicking on it\n",
    "cpu_filter = driver.find_element_by_xpath(\"/html/body/div[1]/div[2]/div[1]/div[2]/div/div[3]/span/div[1]/div/div/div[5]/ul[5]/li[13]/span/a/div/label/i\")\n",
    "cpu_filter.click()"
   ]
  },
  {
   "cell_type": "code",
   "execution_count": 21,
   "id": "434d6658",
   "metadata": {},
   "outputs": [
    {
     "data": {
      "text/plain": [
       "['Fujitsu UH-X 11th Gen Intel Core i7 13.3” FHD IPS 400Nits Thin & Light Laptop(16GB/512GB SSD/Windows 11/Office 2021/Iris Xe Graphics/Backlit Kb/Fingerprint Reader/2Yr Warranty/Black/878gms),4ZR1F38024',\n",
       " 'Dell G15 5511 Intel i7-11800H Gaming Laptop,16GB DDR4,512GB SSD, Win 11+MSO\\'21, NVIDIA RTX 3060 6GB GDDR6,15.6\" (39.62cm) FHD AG 300 nits 165Hz, Backlit KB RGB, Black (D560670WIN9B), 2.6kg',\n",
       " 'ASUS VivoBook 14 (2021), 14-inch (35.56 cms) FHD, Intel Core i7-1065G7 10th Gen, Thin and Light Laptop (16GB/512GB SSD/Integrated Graphics/Office 2021/Windows 11/Silver/1.6 Kg), X415JA-EK701WS',\n",
       " 'Mi Notebook Ultra 3.2K Resolution Display Intel Core i7-11370H 11th Gen 15.6-inch(39.62 cm) Thin and Light Laptop (16GB/512GB SSD/Iris Xe Graphic/Win 10/MS Office/Backlit KB/Fingerprint Sensor/1.7Kg)',\n",
       " 'ASUS TUF Gaming F15 (2021), 15.6\" (39.62 cms) FHD 144Hz, Intel Core i7-11600H 11th Gen, 4GB RTX 3050 Graphics, Gaming Laptop (16GB/512GB SSD/Windows 10/Office 2019/Gray/2.3 Kg), FX566HCB-HN299TS',\n",
       " 'LG Gram 14 inches Ultra-Light Intel Evo 11th Gen Core i7 Laptop (16 GB RAM, 512 GB SSD, New Windows 11 Home Preload, Iris Xe Graphics, USC -C x 2 (with Power), 0.999Kg, (14Z90P-G.AH85A2, Black)',\n",
       " 'Microsoft Surface Studio 14.4 inches Touchscreen Intel ® Core i7 Laptop (32GB Memory, Windows 11 Home, 2TB SSD - Platinum, 2.664Kg)',\n",
       " 'HP Pavilion x360 11th Gen Intel Core i7 14 inches FHD, IPS, Convertible Laptop (16 GB RAM/512GB SSD, B&O/Win 11 Home/Backlit keyboard/FPR/ Alexa-Built in/MS Office/Natural Silver/1.52 Kg) -14-dy1013TU',\n",
       " 'Lenovo ThinkBook 15 Intel 11th Gen Core i7 15.6\"(39.62 cm)FHD Thin and Light Laptop (16GB/512GB SSD/Windows 11 Home/MS Office H&S 2021/Iris® Xe Graphics/Backlit/Mineral Grey/1.7 Kg) 20VE00W4IH',\n",
       " '(Renewed) Acer Nitro 5 11th Gen Intel Core i5-11400H 15.6\" (39.62cms) FHD 144Hz Gaming Laptop (8 GB/512GB SSD/Win 10/4 GB Graphics/NVIDIA GeForce GTX 1650/Shale Black, 2.2 kg/RGB Backlit Keyboard) AN515-57']"
      ]
     },
     "execution_count": 21,
     "metadata": {},
     "output_type": "execute_result"
    }
   ],
   "source": [
    "titles = driver.find_elements_by_xpath('//h2[@class=\"a-size-mini a-spacing-none a-color-base s-line-clamp-2\"]')\n",
    "len(titles)\n",
    "titles[0: 10]\n",
    "product_titles = []\n",
    "\n",
    "for i in titles:\n",
    "    product_titles.append(i.text)\n",
    "len(product_titles)\n",
    "product_titles[0: 10]"
   ]
  },
  {
   "cell_type": "code",
   "execution_count": 25,
   "id": "eb600207",
   "metadata": {},
   "outputs": [
    {
     "data": {
      "text/plain": [
       "['', '', '', '', '', '', '', '', '', '']"
      ]
     },
     "execution_count": 25,
     "metadata": {},
     "output_type": "execute_result"
    }
   ],
   "source": [
    "rating= driver.find_elements_by_xpath('//span[@class=\"a-icon-alt\"]')\n",
    "len(rating)\n",
    "rating[0:10]\n",
    "product_rating = []\n",
    "\n",
    "for i in rating:\n",
    "    product_rating.append(i.text)\n",
    "len(product_rating)\n",
    "product_rating[0:10]"
   ]
  },
  {
   "cell_type": "code",
   "execution_count": 26,
   "id": "d004d142",
   "metadata": {},
   "outputs": [
    {
     "data": {
      "text/plain": [
       "['₹83,990\\n₹1,22,390 (31% off)',\n",
       " '₹1,25,510\\n₹1,56,045 (20% off)',\n",
       " '₹57,490\\n₹82,990 (31% off)',\n",
       " '₹77,499\\n₹90,999 (15% off)',\n",
       " '₹89,990\\n₹1,27,990 (30% off)',\n",
       " '₹81,999\\n₹1,40,000 (41% off)',\n",
       " '₹3,73,999\\n₹4,29,999 (13% off)',\n",
       " '₹91,800\\n₹99,800 (8% off)',\n",
       " '₹90,990\\n₹1,28,520 (29% off)',\n",
       " '₹62,990\\n₹95,000 (33% off)']"
      ]
     },
     "execution_count": 26,
     "metadata": {},
     "output_type": "execute_result"
    }
   ],
   "source": [
    "price = driver.find_elements_by_xpath('//div[@class=\"a-row a-size-base a-color-base\"]')\n",
    "len(price)\n",
    "price[0:10]\n",
    "product_price = []\n",
    "\n",
    "for i in price:\n",
    "    product_price.append(i.text)\n",
    "len(product_price)\n",
    "product_price[0:10]"
   ]
  },
  {
   "cell_type": "markdown",
   "id": "a545eed2",
   "metadata": {},
   "source": [
    "q9...Write a python program to scrape data for first 10 job results for Data Scientist Designation in Noida\n",
    "location. You have to scrape company name, No. of days ago when job was posted, Rating of the company.\n",
    "This task will be done in following steps:\n",
    "1. First get the webpage https://www.ambitionbox.com/\n",
    "3. After reaching to the next webpage, In place of “Search by Designations, Companies, Skills” enter\n",
    "“Data Scientist” and click on search button.\n",
    "4. You will reach to the following web page click on location and in place of “Search location” enter\n",
    "“Noida” and select location “Noida\n"
   ]
  },
  {
   "cell_type": "code",
   "execution_count": 20,
   "id": "70047c8b",
   "metadata": {},
   "outputs": [],
   "source": [
    "#connecting webdriver\n",
    "driver = webdriver.Chrome(r'C:/Users/Hp/Downloads/chromedriver_win32/chromedriver.exe')\n",
    "driver = webdriver.Chrome(\"chromedriver.exe\")\n",
    "#getting url\n",
    "url = 'http://www.ambitionbox.com/'\n",
    "driver.get(url)"
   ]
  },
  {
   "cell_type": "code",
   "execution_count": 21,
   "id": "736a00ab",
   "metadata": {},
   "outputs": [],
   "source": [
    "#extracting the job data element and clicking on it\n",
    "job_btn = driver.find_element_by_xpath(\"/html/body/div[1]/nav/nav/a[6]\")\n",
    "job_btn\n",
    "job_btn.click()"
   ]
  },
  {
   "cell_type": "code",
   "execution_count": 22,
   "id": "c00028a3",
   "metadata": {},
   "outputs": [],
   "source": [
    "#extracting the search element with data scienctist\n",
    "search_job = driver.find_element_by_xpath(\"/html/body/div/div/div/div[2]/div[1]/div/div/div/div/span/input\")\n",
    "search_job\n",
    "search_job.send_keys(\"Data Scientist\")\n",
    "#extracting the search btn after that click on it\n",
    "search_btn = driver.find_element_by_xpath(\"/html/body/div/div/div/div[2]/div[1]/div/div/div/button/span\")\n",
    "search_btn\n",
    "search_btn.click()"
   ]
  },
  {
   "cell_type": "code",
   "execution_count": 33,
   "id": "e0e4f401",
   "metadata": {},
   "outputs": [
    {
     "data": {
      "text/plain": [
       "<selenium.webdriver.remote.webelement.WebElement (session=\"9d4295d971002d4989f64bffe8d2d0bd\", element=\"f1df4ecd-8a23-4d97-9e63-c6c46b4996d7\")>"
      ]
     },
     "execution_count": 33,
     "metadata": {},
     "output_type": "execute_result"
    }
   ],
   "source": [
    "#then extracting location filter and clicking method\n",
    "locn_filter = driver.find_element_by_xpath(\"/html/body/div/div/div/div[2]/div[2]/div[1]/div/div/div/div[2]/div[1]\")\n",
    "locn_filter"
   ]
  },
  {
   "cell_type": "code",
   "execution_count": 34,
   "id": "725f92e8",
   "metadata": {},
   "outputs": [],
   "source": [
    "locn_filter.click()"
   ]
  },
  {
   "cell_type": "code",
   "execution_count": 39,
   "id": "50ef08e3",
   "metadata": {},
   "outputs": [],
   "source": [
    "loc = driver.find_element_by_xpath(\"/html/body/div/div/div/div[2]/div[2]/div[1]/div/div/div/div[2]/div[2]/div/div[3]/div[1]/div[5]/div/label\")\n",
    "loc\n",
    "loc.click()"
   ]
  },
  {
   "cell_type": "code",
   "execution_count": 40,
   "id": "3a4ab04a",
   "metadata": {},
   "outputs": [
    {
     "data": {
      "text/plain": [
       "['NTT DATA GLOBAL DELIVERY SERVICES PRIVATE LIMITED',\n",
       " 'HCL Technologies Limited',\n",
       " 'WSP CONSULTANTS INDIA PRIVATE LIMITED',\n",
       " 'Microsoft India (R and D) Pvt Ltd',\n",
       " 'HCL Technologies Ltd',\n",
       " 'Jubilant Foodworks Limited',\n",
       " 'HCL Technologies',\n",
       " 'RATEGAIN TRAVEL TECHNOLOGIES LIMITED',\n",
       " 'Hanu Software Solutions Pvt Ltd',\n",
       " 'Tavant Technologies India Pvt. Ltd.']"
      ]
     },
     "execution_count": 40,
     "metadata": {},
     "output_type": "execute_result"
    }
   ],
   "source": [
    "titles = driver.find_elements_by_xpath('//p[@class=\"company body-medium\"]')\n",
    "len(titles)\n",
    "titles[0: 10]\n",
    "company_titles = []\n",
    "\n",
    "for i in titles:\n",
    "    company_titles.append(i.text)\n",
    "len(company_titles)\n",
    "company_titles[0: 10]"
   ]
  },
  {
   "cell_type": "code",
   "execution_count": 44,
   "id": "8cf6b0b1",
   "metadata": {},
   "outputs": [
    {
     "data": {
      "text/plain": [
       "['10d ago',\n",
       " '11d ago',\n",
       " '12d ago',\n",
       " '22d ago',\n",
       " '20d ago',\n",
       " '9d ago',\n",
       " '26d ago',\n",
       " '4d ago',\n",
       " '11d ago',\n",
       " '1mon ago']"
      ]
     },
     "execution_count": 44,
     "metadata": {},
     "output_type": "execute_result"
    }
   ],
   "source": [
    "days = driver.find_elements_by_xpath('//span[@class=\"body-small-l\"][1]')\n",
    "len(days)\n",
    "days[0:10]\n",
    "pub_days = []\n",
    "\n",
    "for i in days:\n",
    "    pub_days.append(i.text)\n",
    "len(pub_days)\n",
    "pub_days[0:10]"
   ]
  },
  {
   "cell_type": "code",
   "execution_count": 45,
   "id": "675adbeb",
   "metadata": {},
   "outputs": [
    {
     "data": {
      "text/plain": [
       "['3.9', '3.8', '4.2', '4.2', '3.8', '3.9', '3.8', '3.7', '3.7', '4.0']"
      ]
     },
     "execution_count": 45,
     "metadata": {},
     "output_type": "execute_result"
    }
   ],
   "source": [
    "rating= driver.find_elements_by_xpath('//span[@class=\"body-small\"]')\n",
    "len(rating)\n",
    "rating[0:10]\n",
    "company_rating = []\n",
    "\n",
    "for i in rating:\n",
    "    company_rating.append(i.text)\n",
    "len(company_rating)\n",
    "company_rating[0:10]"
   ]
  },
  {
   "cell_type": "code",
   "execution_count": 47,
   "id": "fae4fcbf",
   "metadata": {},
   "outputs": [
    {
     "data": {
      "text/html": [
       "<div>\n",
       "<style scoped>\n",
       "    .dataframe tbody tr th:only-of-type {\n",
       "        vertical-align: middle;\n",
       "    }\n",
       "\n",
       "    .dataframe tbody tr th {\n",
       "        vertical-align: top;\n",
       "    }\n",
       "\n",
       "    .dataframe thead th {\n",
       "        text-align: right;\n",
       "    }\n",
       "</style>\n",
       "<table border=\"1\" class=\"dataframe\">\n",
       "  <thead>\n",
       "    <tr style=\"text-align: right;\">\n",
       "      <th></th>\n",
       "      <th>company names</th>\n",
       "      <th>posting date</th>\n",
       "      <th>Job rating</th>\n",
       "    </tr>\n",
       "  </thead>\n",
       "  <tbody>\n",
       "    <tr>\n",
       "      <th>0</th>\n",
       "      <td>NTT DATA GLOBAL DELIVERY SERVICES PRIVATE LIMITED</td>\n",
       "      <td>10d ago</td>\n",
       "      <td>3.9</td>\n",
       "    </tr>\n",
       "    <tr>\n",
       "      <th>1</th>\n",
       "      <td>HCL Technologies Limited</td>\n",
       "      <td>11d ago</td>\n",
       "      <td>3.8</td>\n",
       "    </tr>\n",
       "    <tr>\n",
       "      <th>2</th>\n",
       "      <td>WSP CONSULTANTS INDIA PRIVATE LIMITED</td>\n",
       "      <td>12d ago</td>\n",
       "      <td>4.2</td>\n",
       "    </tr>\n",
       "    <tr>\n",
       "      <th>3</th>\n",
       "      <td>Microsoft India (R and D) Pvt Ltd</td>\n",
       "      <td>22d ago</td>\n",
       "      <td>4.2</td>\n",
       "    </tr>\n",
       "    <tr>\n",
       "      <th>4</th>\n",
       "      <td>HCL Technologies Ltd</td>\n",
       "      <td>20d ago</td>\n",
       "      <td>3.8</td>\n",
       "    </tr>\n",
       "    <tr>\n",
       "      <th>5</th>\n",
       "      <td>Jubilant Foodworks Limited</td>\n",
       "      <td>9d ago</td>\n",
       "      <td>3.9</td>\n",
       "    </tr>\n",
       "    <tr>\n",
       "      <th>6</th>\n",
       "      <td>HCL Technologies</td>\n",
       "      <td>26d ago</td>\n",
       "      <td>3.8</td>\n",
       "    </tr>\n",
       "    <tr>\n",
       "      <th>7</th>\n",
       "      <td>RATEGAIN TRAVEL TECHNOLOGIES LIMITED</td>\n",
       "      <td>4d ago</td>\n",
       "      <td>3.7</td>\n",
       "    </tr>\n",
       "    <tr>\n",
       "      <th>8</th>\n",
       "      <td>Hanu Software Solutions Pvt Ltd</td>\n",
       "      <td>11d ago</td>\n",
       "      <td>3.7</td>\n",
       "    </tr>\n",
       "    <tr>\n",
       "      <th>9</th>\n",
       "      <td>Tavant Technologies India Pvt. Ltd.</td>\n",
       "      <td>1mon ago</td>\n",
       "      <td>4.0</td>\n",
       "    </tr>\n",
       "  </tbody>\n",
       "</table>\n",
       "</div>"
      ],
      "text/plain": [
       "                                       company names posting date Job rating\n",
       "0  NTT DATA GLOBAL DELIVERY SERVICES PRIVATE LIMITED      10d ago        3.9\n",
       "1                           HCL Technologies Limited      11d ago        3.8\n",
       "2              WSP CONSULTANTS INDIA PRIVATE LIMITED      12d ago        4.2\n",
       "3                  Microsoft India (R and D) Pvt Ltd      22d ago        4.2\n",
       "4                               HCL Technologies Ltd      20d ago        3.8\n",
       "5                         Jubilant Foodworks Limited       9d ago        3.9\n",
       "6                                   HCL Technologies      26d ago        3.8\n",
       "7               RATEGAIN TRAVEL TECHNOLOGIES LIMITED       4d ago        3.7\n",
       "8                    Hanu Software Solutions Pvt Ltd      11d ago        3.7\n",
       "9                Tavant Technologies India Pvt. Ltd.     1mon ago        4.0"
      ]
     },
     "execution_count": 47,
     "metadata": {},
     "output_type": "execute_result"
    }
   ],
   "source": [
    "#creating the dataframe\n",
    "jobs = pd.DataFrame()\n",
    "jobs[\"company names\"]=company_titles\n",
    "jobs[\"posting date\"]=pub_days\n",
    "jobs[\"Job rating\"]=company_rating\n",
    "jobs"
   ]
  },
  {
   "cell_type": "markdown",
   "id": "cafc7172",
   "metadata": {},
   "source": [
    "q10...Write a python program to scrape the salary data for Data Scientist designation.\n",
    "You have to scrape Company name, Number of salaries, Average salary, Minsalary, Max Salary.\n",
    "The above task will be, done as shown in the below steps:\n",
    "1. First get the webpage https://www.ambitionbox.com/\n",
    "After reaching to the following webpage, In place of “Search Job Profile” enters “Data Scientist” and\n",
    "then click on “Data Scientist”.\n",
    "4. Scrape the data for the first 10 companies. Scrape the company name, total salary record, average\n",
    "salary, minimum salary, maximum salary, experience required.\n",
    "5. Store the data in a dataframe"
   ]
  },
  {
   "cell_type": "code",
   "execution_count": 25,
   "id": "832eef67",
   "metadata": {},
   "outputs": [],
   "source": [
    "#connecting webdriver\n",
    "driver = webdriver.Chrome(r'C:/Users/Hp/Downloads/chromedriver_win32/chromedriver.exe')\n",
    "driver\n",
    "#getting url\n",
    "url = 'http://www.ambitionbox.com/'\n",
    "driver.get(url)"
   ]
  },
  {
   "cell_type": "code",
   "execution_count": 26,
   "id": "c93a5135",
   "metadata": {},
   "outputs": [],
   "source": [
    "#extracting salary button data and clicking on it by click method  \n",
    "salary_btn = driver.find_element_by_xpath(\"/html/body/div[1]/nav/nav/a[4]\")\n",
    "salary_btn\n",
    "salary_btn.click()"
   ]
  },
  {
   "cell_type": "code",
   "execution_count": 27,
   "id": "d20f4b43",
   "metadata": {},
   "outputs": [
    {
     "data": {
      "text/plain": [
       "<selenium.webdriver.remote.webelement.WebElement (session=\"c75543105d08adeecaf91d5956a0707d\", element=\"748e299e-b71e-400a-9faa-0fc4df5b5aba\")>"
      ]
     },
     "execution_count": 27,
     "metadata": {},
     "output_type": "execute_result"
    }
   ],
   "source": [
    "#Extracting element of search with data scincetist \n",
    "search_profile = driver.find_element_by_xpath(\"/html/body/div/div/div/main/section[1]/div[2]/div[1]/span/input\")\n",
    "search_profile"
   ]
  },
  {
   "cell_type": "code",
   "execution_count": 28,
   "id": "cc9ef9dc",
   "metadata": {},
   "outputs": [],
   "source": [
    "search_profile.send_keys(\"Data Scienctist\")"
   ]
  },
  {
   "cell_type": "code",
   "execution_count": 29,
   "id": "9f4453ce",
   "metadata": {},
   "outputs": [],
   "source": [
    "#extracting the search button element and clicking on it \n",
    "srch_btn = driver.find_element_by_xpath(\"/html/body/div/div/div/main/section[1]/div[2]/div[1]/span/div/div/div[2]/div/div/p\")\n",
    "srch_btn\n",
    "srch_btn.click()"
   ]
  },
  {
   "cell_type": "code",
   "execution_count": 30,
   "id": "90f51892",
   "metadata": {},
   "outputs": [
    {
     "data": {
      "text/plain": [
       "['Ab Inbev',\n",
       " 'ZS',\n",
       " 'Optum',\n",
       " 'Fractal Analytics',\n",
       " 'Tiger Analytics',\n",
       " 'UnitedHealth',\n",
       " 'Verizon',\n",
       " 'Ganit Business Solutions',\n",
       " 'Ericsson',\n",
       " 'Deloitte']"
      ]
     },
     "execution_count": 30,
     "metadata": {},
     "output_type": "execute_result"
    }
   ],
   "source": [
    "titles = driver.find_elements_by_xpath('//div[@class=\"name\"]/a')\n",
    "len(titles)\n",
    "titles[0: 10]\n",
    "company_titles = []\n",
    "\n",
    "for i in titles:\n",
    "    company_titles.append(i.text)\n",
    "len(company_titles)\n",
    "company_titles[0: 10]"
   ]
  },
  {
   "cell_type": "code",
   "execution_count": 31,
   "id": "bd0969b1",
   "metadata": {},
   "outputs": [
    {
     "data": {
      "text/plain": [
       "['based on 28 salaries',\n",
       " 'based on 15 salaries',\n",
       " 'based on 25 salaries',\n",
       " 'based on 77 salaries',\n",
       " 'based on 33 salaries',\n",
       " 'based on 52 salaries',\n",
       " 'based on 14 salaries',\n",
       " 'based on 13 salaries',\n",
       " 'based on 43 salaries',\n",
       " 'based on 57 salaries']"
      ]
     },
     "execution_count": 31,
     "metadata": {},
     "output_type": "execute_result"
    }
   ],
   "source": [
    "total_salary = driver.find_elements_by_xpath('//div[@class=\"name\"]/span')\n",
    "len(total_salary)\n",
    "total_salary[0: 10]\n",
    "l = []\n",
    "\n",
    "for i in total_salary:\n",
    "    l.append(i.text)\n",
    "len(l)\n",
    "l[0: 10]"
   ]
  },
  {
   "cell_type": "code",
   "execution_count": 32,
   "id": "809b09ab",
   "metadata": {},
   "outputs": [
    {
     "data": {
      "text/plain": [
       "['₹ 20.3L',\n",
       " '₹ 15.3L',\n",
       " '₹ 15.1L',\n",
       " '₹ 15.1L',\n",
       " '₹ 14.4L',\n",
       " '₹ 13.9L',\n",
       " '₹ 12.7L',\n",
       " '₹ 12.4L',\n",
       " '₹ 11.9L',\n",
       " '₹ 11.7L']"
      ]
     },
     "execution_count": 32,
     "metadata": {},
     "output_type": "execute_result"
    }
   ],
   "source": [
    "avg_salary = driver.find_elements_by_xpath('//div[@class=\"average-indicator-wrapper\"]')\n",
    "len(avg_salary)\n",
    "avg_salary[0: 10]\n",
    "m = []\n",
    "\n",
    "for i in avg_salary:\n",
    "    m.append(i.text)\n",
    "len(m)\n",
    "m[0: 10]"
   ]
  },
  {
   "cell_type": "code",
   "execution_count": 33,
   "id": "cd3629b7",
   "metadata": {},
   "outputs": [
    {
     "data": {
      "text/plain": [
       "['₹ 15.0L',\n",
       " '₹ 9.5L',\n",
       " '₹ 11.0L',\n",
       " '₹ 9.5L',\n",
       " '₹ 8.3L',\n",
       " '₹ 8.3L',\n",
       " '₹ 10.0L',\n",
       " '₹ 8.5L',\n",
       " '₹ 5.8L',\n",
       " '₹ 6.9L']"
      ]
     },
     "execution_count": 33,
     "metadata": {},
     "output_type": "execute_result"
    }
   ],
   "source": [
    "min_salary = driver.find_elements_by_xpath('//div[@class=\"value body-medium\"]')\n",
    "len(min_salary)\n",
    "min_salary[0: 10]\n",
    "n = []\n",
    "\n",
    "for i in range(0,len(min_salary),2):\n",
    "    n.append(min_salary[i].text)\n",
    "len(n)\n",
    "n[0: 10]"
   ]
  },
  {
   "cell_type": "code",
   "execution_count": 39,
   "id": "66710e63",
   "metadata": {},
   "outputs": [
    {
     "data": {
      "text/plain": [
       "['₹ 25.5L',\n",
       " '₹ 20.0L',\n",
       " '₹ 21.3L',\n",
       " '₹ 22.0L',\n",
       " '₹ 20.0L',\n",
       " '₹ 20.5L',\n",
       " '₹ 21.0L',\n",
       " '₹ 15.0L',\n",
       " '₹ 24.0L',\n",
       " '₹ 23.4L']"
      ]
     },
     "execution_count": 39,
     "metadata": {},
     "output_type": "execute_result"
    }
   ],
   "source": [
    "max_salary = driver.find_elements_by_xpath('//div[@class=\"value body-medium\"]')\n",
    "len(max_salary)\n",
    "max_salary[0: 10]\n",
    "p = []\n",
    "\n",
    "for i in range(1,len(min_salary),2):\n",
    "    p.append(min_salary[i].text)\n",
    "len(p)\n",
    "p[0: 10]"
   ]
  },
  {
   "cell_type": "code",
   "execution_count": 40,
   "id": "64548c26",
   "metadata": {},
   "outputs": [
    {
     "data": {
      "text/plain": [
       "['Data Scientist\\n . \\n3-4 yrs exp',\n",
       " 'Data Scientist\\n . \\n2 yrs exp',\n",
       " 'Data Scientist\\n . \\n3-4 yrs exp',\n",
       " 'Data Scientist\\n . \\n2-4 yrs exp',\n",
       " 'Data Scientist\\n . \\n3-4 yrs exp',\n",
       " 'Data Scientist\\n . \\n2-4 yrs exp',\n",
       " 'Data Scientist\\n . \\n4 yrs exp',\n",
       " 'Data Scientist\\n . \\n4 yrs exp',\n",
       " 'Data Scientist\\n . \\n3-4 yrs exp',\n",
       " 'Data Scientist\\n . \\n2-4 yrs exp']"
      ]
     },
     "execution_count": 40,
     "metadata": {},
     "output_type": "execute_result"
    }
   ],
   "source": [
    "exp = driver.find_elements_by_xpath('//div[@class=\"salaries sbold-list-header\"]')\n",
    "len(exp)\n",
    "exp[0: 10]\n",
    "o = []\n",
    "\n",
    "for i in exp:\n",
    "    o.append(i.text)\n",
    "len(o)\n",
    "o[0: 10]"
   ]
  },
  {
   "cell_type": "code",
   "execution_count": 41,
   "id": "c9f4c99d",
   "metadata": {},
   "outputs": [
    {
     "data": {
      "text/html": [
       "<div>\n",
       "<style scoped>\n",
       "    .dataframe tbody tr th:only-of-type {\n",
       "        vertical-align: middle;\n",
       "    }\n",
       "\n",
       "    .dataframe tbody tr th {\n",
       "        vertical-align: top;\n",
       "    }\n",
       "\n",
       "    .dataframe thead th {\n",
       "        text-align: right;\n",
       "    }\n",
       "</style>\n",
       "<table border=\"1\" class=\"dataframe\">\n",
       "  <thead>\n",
       "    <tr style=\"text-align: right;\">\n",
       "      <th></th>\n",
       "      <th>company names</th>\n",
       "      <th>toatl salary</th>\n",
       "      <th>avrage_salary</th>\n",
       "      <th>minimum salary</th>\n",
       "      <th>maximum salary</th>\n",
       "      <th>experience</th>\n",
       "    </tr>\n",
       "  </thead>\n",
       "  <tbody>\n",
       "    <tr>\n",
       "      <th>0</th>\n",
       "      <td>Ab Inbev</td>\n",
       "      <td>based on 28 salaries</td>\n",
       "      <td>₹ 20.3L</td>\n",
       "      <td>₹ 15.0L</td>\n",
       "      <td>₹ 25.5L</td>\n",
       "      <td>Data Scientist\\n . \\n3-4 yrs exp</td>\n",
       "    </tr>\n",
       "    <tr>\n",
       "      <th>1</th>\n",
       "      <td>ZS</td>\n",
       "      <td>based on 15 salaries</td>\n",
       "      <td>₹ 15.3L</td>\n",
       "      <td>₹ 9.5L</td>\n",
       "      <td>₹ 20.0L</td>\n",
       "      <td>Data Scientist\\n . \\n2 yrs exp</td>\n",
       "    </tr>\n",
       "    <tr>\n",
       "      <th>2</th>\n",
       "      <td>Optum</td>\n",
       "      <td>based on 25 salaries</td>\n",
       "      <td>₹ 15.1L</td>\n",
       "      <td>₹ 11.0L</td>\n",
       "      <td>₹ 21.3L</td>\n",
       "      <td>Data Scientist\\n . \\n3-4 yrs exp</td>\n",
       "    </tr>\n",
       "    <tr>\n",
       "      <th>3</th>\n",
       "      <td>Fractal Analytics</td>\n",
       "      <td>based on 77 salaries</td>\n",
       "      <td>₹ 15.1L</td>\n",
       "      <td>₹ 9.5L</td>\n",
       "      <td>₹ 22.0L</td>\n",
       "      <td>Data Scientist\\n . \\n2-4 yrs exp</td>\n",
       "    </tr>\n",
       "    <tr>\n",
       "      <th>4</th>\n",
       "      <td>Tiger Analytics</td>\n",
       "      <td>based on 33 salaries</td>\n",
       "      <td>₹ 14.4L</td>\n",
       "      <td>₹ 8.3L</td>\n",
       "      <td>₹ 20.0L</td>\n",
       "      <td>Data Scientist\\n . \\n3-4 yrs exp</td>\n",
       "    </tr>\n",
       "    <tr>\n",
       "      <th>5</th>\n",
       "      <td>UnitedHealth</td>\n",
       "      <td>based on 52 salaries</td>\n",
       "      <td>₹ 13.9L</td>\n",
       "      <td>₹ 8.3L</td>\n",
       "      <td>₹ 20.5L</td>\n",
       "      <td>Data Scientist\\n . \\n2-4 yrs exp</td>\n",
       "    </tr>\n",
       "    <tr>\n",
       "      <th>6</th>\n",
       "      <td>Verizon</td>\n",
       "      <td>based on 14 salaries</td>\n",
       "      <td>₹ 12.7L</td>\n",
       "      <td>₹ 10.0L</td>\n",
       "      <td>₹ 21.0L</td>\n",
       "      <td>Data Scientist\\n . \\n4 yrs exp</td>\n",
       "    </tr>\n",
       "    <tr>\n",
       "      <th>7</th>\n",
       "      <td>Ganit Business Solutions</td>\n",
       "      <td>based on 13 salaries</td>\n",
       "      <td>₹ 12.4L</td>\n",
       "      <td>₹ 8.5L</td>\n",
       "      <td>₹ 15.0L</td>\n",
       "      <td>Data Scientist\\n . \\n4 yrs exp</td>\n",
       "    </tr>\n",
       "    <tr>\n",
       "      <th>8</th>\n",
       "      <td>Ericsson</td>\n",
       "      <td>based on 43 salaries</td>\n",
       "      <td>₹ 11.9L</td>\n",
       "      <td>₹ 5.8L</td>\n",
       "      <td>₹ 24.0L</td>\n",
       "      <td>Data Scientist\\n . \\n3-4 yrs exp</td>\n",
       "    </tr>\n",
       "    <tr>\n",
       "      <th>9</th>\n",
       "      <td>Deloitte</td>\n",
       "      <td>based on 57 salaries</td>\n",
       "      <td>₹ 11.7L</td>\n",
       "      <td>₹ 6.9L</td>\n",
       "      <td>₹ 23.4L</td>\n",
       "      <td>Data Scientist\\n . \\n2-4 yrs exp</td>\n",
       "    </tr>\n",
       "  </tbody>\n",
       "</table>\n",
       "</div>"
      ],
      "text/plain": [
       "              company names          toatl salary avrage_salary  \\\n",
       "0                  Ab Inbev  based on 28 salaries       ₹ 20.3L   \n",
       "1                        ZS  based on 15 salaries       ₹ 15.3L   \n",
       "2                     Optum  based on 25 salaries       ₹ 15.1L   \n",
       "3         Fractal Analytics  based on 77 salaries       ₹ 15.1L   \n",
       "4           Tiger Analytics  based on 33 salaries       ₹ 14.4L   \n",
       "5              UnitedHealth  based on 52 salaries       ₹ 13.9L   \n",
       "6                   Verizon  based on 14 salaries       ₹ 12.7L   \n",
       "7  Ganit Business Solutions  based on 13 salaries       ₹ 12.4L   \n",
       "8                  Ericsson  based on 43 salaries       ₹ 11.9L   \n",
       "9                  Deloitte  based on 57 salaries       ₹ 11.7L   \n",
       "\n",
       "  minimum salary maximum salary                        experience  \n",
       "0        ₹ 15.0L        ₹ 25.5L  Data Scientist\\n . \\n3-4 yrs exp  \n",
       "1         ₹ 9.5L        ₹ 20.0L    Data Scientist\\n . \\n2 yrs exp  \n",
       "2        ₹ 11.0L        ₹ 21.3L  Data Scientist\\n . \\n3-4 yrs exp  \n",
       "3         ₹ 9.5L        ₹ 22.0L  Data Scientist\\n . \\n2-4 yrs exp  \n",
       "4         ₹ 8.3L        ₹ 20.0L  Data Scientist\\n . \\n3-4 yrs exp  \n",
       "5         ₹ 8.3L        ₹ 20.5L  Data Scientist\\n . \\n2-4 yrs exp  \n",
       "6        ₹ 10.0L        ₹ 21.0L    Data Scientist\\n . \\n4 yrs exp  \n",
       "7         ₹ 8.5L        ₹ 15.0L    Data Scientist\\n . \\n4 yrs exp  \n",
       "8         ₹ 5.8L        ₹ 24.0L  Data Scientist\\n . \\n3-4 yrs exp  \n",
       "9         ₹ 6.9L        ₹ 23.4L  Data Scientist\\n . \\n2-4 yrs exp  "
      ]
     },
     "execution_count": 41,
     "metadata": {},
     "output_type": "execute_result"
    }
   ],
   "source": [
    "#crating the data frame\n",
    "jobs = pd.DataFrame()\n",
    "jobs[\"company names\"]=company_titles\n",
    "jobs[\"toatl salary\"]=l\n",
    "jobs[\"avrage_salary\"]=m\n",
    "jobs[\"minimum salary\"]=n\n",
    "jobs[\"maximum salary\"]=p\n",
    "jobs[\"experience\"]=o\n",
    "jobs"
   ]
  },
  {
   "cell_type": "markdown",
   "id": "ed08259c",
   "metadata": {},
   "source": [
    "Q5: Scrape 100 reviews data from flipkart.com for iphone11 phone\n",
    "    As shown in the above page you have to scrape the tick marked attributes.These are:\n",
    "1. Rating\n",
    "2. Review summary\n",
    "3. Full review\n",
    "4. You have to scrape this data for first 100 reviews."
   ]
  },
  {
   "cell_type": "code",
   "execution_count": 46,
   "id": "a9cb3c11",
   "metadata": {},
   "outputs": [],
   "source": [
    "#connecting webdriver\n",
    "driver = webdriver.Chrome(r'C:/Users/Hp/Downloads/chromedriver_win32/chromedriver.exe')\n",
    "driver = webdriver.Chrome(\"chromedriver.exe\")\n",
    "#getting url\n",
    "url = 'https://www.flipkart.com/apple-iphone-11-black-128-gb/product-reviews/itm8244e8d955aba?pid=MOBFWQ6BKRYBP5X8&lid=LSTMOBFWQ6BKRYBP5X8HS0EXP&marketplace=FLIPKART'\n",
    "driver.get(url)"
   ]
  },
  {
   "cell_type": "code",
   "execution_count": 47,
   "id": "06ca2943",
   "metadata": {},
   "outputs": [
    {
     "data": {
      "text/plain": [
       "['5', '5', '5', '5', '5', '5', '5', '4', '5', '5']"
      ]
     },
     "execution_count": 47,
     "metadata": {},
     "output_type": "execute_result"
    }
   ],
   "source": [
    "rating = driver.find_elements_by_xpath('//div[@class=\"_3LWZlK _1BLPMq\"]')\n",
    "len(rating)\n",
    "rating\n",
    "o = []\n",
    "\n",
    "for i in rating:\n",
    "    o.append(i.text)\n",
    "len(o)\n",
    "o"
   ]
  },
  {
   "cell_type": "code",
   "execution_count": 50,
   "id": "27a85ab5",
   "metadata": {},
   "outputs": [
    {
     "data": {
      "text/plain": [
       "['Brilliant',\n",
       " 'Simply awesome',\n",
       " 'Best in the market!',\n",
       " 'Perfect product!',\n",
       " 'Fabulous!',\n",
       " 'Worth every penny',\n",
       " 'Great product',\n",
       " 'Good choice',\n",
       " 'Worth every penny',\n",
       " 'Highly recommended']"
      ]
     },
     "execution_count": 50,
     "metadata": {},
     "output_type": "execute_result"
    }
   ],
   "source": [
    "rating_review = driver.find_elements_by_xpath('//p[@class=\"_2-N8zT\"]')\n",
    "len(rating_review)\n",
    "rating_review\n",
    "p = []\n",
    "\n",
    "for i in rating_review:\n",
    "    p.append(i.text)\n",
    "len(p)\n",
    "p"
   ]
  },
  {
   "cell_type": "code",
   "execution_count": 56,
   "id": "da2f7726",
   "metadata": {},
   "outputs": [
    {
     "data": {
      "text/plain": [
       "['The Best Phone for the Money\\n\\nThe iPhone 11 offers superb cameras, a more durable design and excellent battery life for an affordable price.\\n\\nCompelling ultra-wide camera\\nNew Night mode is excellent\\nLong battery life',\n",
       " 'Really satisfied with the Product I received... It’s totally genuine and the packaging was also really good so if ur planning to buy just go for it.',\n",
       " 'Great iPhone very snappy experience as apple kind. Upgraded from iPhone 7.\\nPros\\n-Camera top class\\n- Battery top performed\\n-Chipset no need to say as apple kind\\n-Security as you expect from apple\\n- Display super bright industry leading colour\\naccuracy and super responsive\\n-Build quality as expect from apple sturdy\\npremium durable beautiful stylish.\\n-Os most stable os in smartphone industry\\n\\nCons\\n-No 5G\\n-Display is not based on OLED technology\\n-Charger headphones and 1 apple stic...',\n",
       " 'Amazing phone with great cameras and better battery which gives you the best performance. I just love the camera .',\n",
       " 'This is my first iOS phone. I am very happy with this product. Very much satisfied with this. I love this phone.',\n",
       " 'Previously I was using one plus 3t it was a great phone\\nAnd then I decided to upgrade I am stuck between Samsung s10 plus or iPhone 11\\nI have seen the specs and everything were good except the display it’s somewhere between 720-1080 and it’s not even an amoled it’s an LCD display\\nBut I decided to go with iPhone because I have never used an IOS device I have Been an android user from the past 9 years I ordered IPhone 11 (128gb) product red\\nMy experience after using 3 weeks\\n1. The delivery ...',\n",
       " 'Amazing Powerful and Durable Gadget.\\n\\nI’m am very happy with the camera picture quality, Amazing face id unlocked in dark room, Strong battery with perfect screen size as you can carry easily in pocket. This is my third iPhone.\\n\\nI shifted from android Samsung Note series to iPhone because of the strong build quality and peace of mind for next 3-4 years.\\n\\nDon’t think to much just go for it and I suggest you to go for minimum 128gb variant or more 256gb.\\n\\nI’ve attached my puppy pics and no fi...',\n",
       " 'So far it’s been an AMAZING experience coming back to iOS after nearly a decade but it’s not as versatile as android though phone is sturdy dropped it accidentally a couple of times and nothing happened fortunately camera is awesome',\n",
       " 'i11 is worthy to buy, too much happy with the product. Thank u flipkart I received the item on time..loved it..',\n",
       " 'What a camera .....just awesome ..you can feel this iPhone just awesome . Good for gaming also ...try pubg in hd it’s just wow']"
      ]
     },
     "execution_count": 56,
     "metadata": {},
     "output_type": "execute_result"
    }
   ],
   "source": [
    "full_review = driver.find_elements_by_xpath('//div[@class=\"\"]')\n",
    "len(full_review)\n",
    "full_review\n",
    "q = []\n",
    "\n",
    "for i in full_review:\n",
    "    q.append(i.text)\n",
    "len(q)\n",
    "q"
   ]
  },
  {
   "cell_type": "code",
   "execution_count": 58,
   "id": "f01da358",
   "metadata": {},
   "outputs": [],
   "source": [
    "next_btn = driver.find_element_by_xpath(\"/html/body/div/div/div[3]/div/div/div[2]/div[13]/div/div/nav/a[2]\")\n",
    "next_btn\n",
    "next_btn.click()"
   ]
  },
  {
   "cell_type": "code",
   "execution_count": 59,
   "id": "23e2db4c",
   "metadata": {},
   "outputs": [
    {
     "data": {
      "text/plain": [
       "['5', '5', '5', '5', '5', '5', '5', '5', '5', '5']"
      ]
     },
     "execution_count": 59,
     "metadata": {},
     "output_type": "execute_result"
    }
   ],
   "source": [
    "rating = driver.find_elements_by_xpath('//div[@class=\"_3LWZlK _1BLPMq\"]')\n",
    "len(rating)\n",
    "rating\n",
    "o = []\n",
    "\n",
    "for i in rating:\n",
    "    o.append(i.text)\n",
    "len(o)\n",
    "o"
   ]
  },
  {
   "cell_type": "code",
   "execution_count": 60,
   "id": "3937f334",
   "metadata": {},
   "outputs": [
    {
     "data": {
      "text/plain": [
       "['Highly recommended',\n",
       " 'Perfect product!',\n",
       " 'Perfect product!',\n",
       " 'Highly recommended',\n",
       " 'Perfect product!',\n",
       " 'Worth every penny',\n",
       " 'Classy product',\n",
       " 'Worth every penny',\n",
       " 'Wonderful',\n",
       " 'Terrific']"
      ]
     },
     "execution_count": 60,
     "metadata": {},
     "output_type": "execute_result"
    }
   ],
   "source": [
    "rating_review = driver.find_elements_by_xpath('//p[@class=\"_2-N8zT\"]')\n",
    "len(rating_review)\n",
    "rating_review\n",
    "p = []\n",
    "\n",
    "for i in rating_review:\n",
    "    p.append(i.text)\n",
    "len(p)\n",
    "p"
   ]
  },
  {
   "cell_type": "code",
   "execution_count": 61,
   "id": "ce0e1ddb",
   "metadata": {},
   "outputs": [
    {
     "data": {
      "text/plain": [
       "['iphone 11 is a very good phone to buy only if you can compromise for the display. The display on this is device is pretty good but you can get other options with better displays in this price segment.\\nIf you can survive with an HD+ LCD panel with thicker bezels and a notch up top then this is a very good phone for you.\\nCameras are awesome, battery backup excellent, great performance and a decent premium look. Good job Apple !',\n",
       " 'It’s a must buy who is looking for an upgrade from previous generation of iPhones. If you are using XR then still you can hold on for sometime and upgrade to 2020 model else this phone is a must buy . Camera quality is amazing and wide angle is something to count upon. Performance wise it’s amazing and feels premium while holding in hand. So a big YES for this device. Go for 128 GB variant as the 4K videos will occupy lots of space and the storage can get over very quickly. Try to buy it with...',\n",
       " 'Value for money❤️❤️\\nIts awesome mobile phone in the world ...\\nDisplay was very good and bright ..\\nTrust me freinds you r never regret after Buying..\\nJust go for it....\\nI love this phone and i switch to iphone x to 11',\n",
       " \"It's my first time to use iOS phone and I am loving my upgradation 😍😍 I love the color, I love the assebility of the phone....I need to learn more about its functionality, but as far as I have seen, it's quite easy and it has a lot of functions to work on, specially if you are a content writer or a blogger you get a lot of content creation platforms and they are really amazing.\\n\\nThis phone not only for good quality photography but a lot of other task too.😍💯\",\n",
       " \"Iphone is just awesome.. battery backup is very very nice.. continuously for 10 hours we can use it.camera is just awesome.. display is just fab.i love it alot..i had to wait 15 days for it as i pre ordered it..overalll it's worth the price..these all images are clicked by my iPhone..and i love it.\",\n",
       " 'Best budget Iphone till date ❤️ go for it guys without second thought. Let me explain you guys about Camera, Display, battery, and performance.\\n\\nCamera: at this price range there is no comparison of camera, you’ll love the picture quality as well as video quality. I am a Vlogger I wanted an iPhone with 4k video by front camera and I got this phone and I am more than happy 😃\\n\\nBattery: I use this phone roughly as I am active social media person and I have a youtube channel. so the battery ba...',\n",
       " 'Totally in love with this ❤ the camera quality is amazing just love it 😘😘😘 itsss dammnnnnnn amazing... Must buy iPhone 11 this is my best experience ever ☀👌👌🧡🧡🧡🧡🧡 thanku apple ❤',\n",
       " 'It’s been almost a month since I have been using this phone. I upgraded from an iPhone 8. The main issue with my 8 was battery and this phone is just awesome when it comes to battery. It lasts a day and a half for me with my regular use , internet connected always with 4g\\nCan’t move forward without saying this. Battery of this phone is a life saver when I am traveling or at work when I don’t get the option to charge\\nCamera is superb. Front cam selfies and back cam photos are just awesome.\\n...',\n",
       " 'This is my first ever I phone. Before this I was using my google nexus 5. But moving from android to iOS is a great experience. It’s worth at this price. I will highly recommend it if you want to move to iOS. The best part of this phone is it’s camera and it’s battery life. This two things have won my heart. I loved it. Happy to have it in my hand. Still exploring its features. And can’t forget to mention Flipkart service. Very prompt service and fast delivery.',\n",
       " 'Really worth of money. i just love it. It is the best phone ever.']"
      ]
     },
     "execution_count": 61,
     "metadata": {},
     "output_type": "execute_result"
    }
   ],
   "source": [
    "full_review = driver.find_elements_by_xpath('//div[@class=\"\"]')\n",
    "len(full_review)\n",
    "full_review\n",
    "q = []\n",
    "\n",
    "for i in full_review:\n",
    "    q.append(i.text)\n",
    "len(q)\n",
    "q"
   ]
  },
  {
   "cell_type": "code",
   "execution_count": 64,
   "id": "c00ed410",
   "metadata": {},
   "outputs": [],
   "source": [
    "next_btn = driver.find_element_by_xpath(\"/html/body/div/div/div[3]/div/div/div[2]/div[13]/div/div/nav/a[4]\")\n",
    "next_btn\n",
    "next_btn.click()"
   ]
  },
  {
   "cell_type": "code",
   "execution_count": 67,
   "id": "9b9e17e6",
   "metadata": {},
   "outputs": [
    {
     "data": {
      "text/plain": [
       "['5', '4', '5', '5', '5', '4', '5', '5', '5', '5']"
      ]
     },
     "execution_count": 67,
     "metadata": {},
     "output_type": "execute_result"
    }
   ],
   "source": [
    "rating = driver.find_elements_by_xpath('//div[@class=\"_3LWZlK _1BLPMq\"]')\n",
    "len(rating)\n",
    "rating\n",
    "o = []\n",
    "\n",
    "for i in rating:\n",
    "    o.append(i.text)\n",
    "len(o)\n",
    "o"
   ]
  },
  {
   "cell_type": "code",
   "execution_count": 68,
   "id": "da15de9b",
   "metadata": {},
   "outputs": [
    {
     "data": {
      "text/plain": [
       "['Smooth like butter, camera like fantabulous, sound is crystal clear & its red color is damn attractive, i am just loving it. Must buy if you love photography.\\n\\nLucky to get it in sale, thank you Flipkart.',\n",
       " 'Awesome Phone. Slightly high price but worth. Better than iPhone XR.\\nCamera is superb and wide angle camera is very clear.\\n12MP selfie camera is also very good.\\nA13 Chip gives a very good and smooth performance.',\n",
       " 'Battery backup is extraordinary, camera is decent & performance offered by A13 bionic is awsome. The display is good in practical usage like the visibility of display is very good in direct sun light compare to pro models. Iam extremely satisfied for the money I spent.',\n",
       " 'Superb Product !!!\\nA big and worthy upgrade from mi 3S to iphone 11 .\\nTotally loved it !',\n",
       " 'I have migrated from OP 7pro... and trust me, iPhone 11 is totally worth it.. following are the reasons:-\\n1)there is ABSOLUTELY NO ISSUE WITH THE DISPLAY... its crisp, sharp and I found it to be much much better than OP7 pro. Netflix, Prime video all run crisply... you won’t miss a thing. True Tone works flawlessly...the display brightness is perfect. OP have not calibrated their screens properly.\\n2) iPhone 11 series have really good cameras... others have spoken in depth about them.\\n3) bat...',\n",
       " 'Looking so good 👍 😍 super 👌 stylish 😎 phone\\nClean box 📦 good 👍 delivery 👌 fast delivery\\nOriginal box Original iphone 📱 👌 😍😍😍',\n",
       " 'After 1 month use I found camera quality best compared to my previous Samsung note 10+.Display not good as note 10 also charging too slow.Apple should add fast charger like 11 plus and pro.Best phone for daily use',\n",
       " 'I just directly switch from iphone 6s to iphone 11 .The best premium smartphone I recommend to everyone. Excellent quality and colors the iphone have in 11 series.\\nCamera quality is just awesome and the major feel when we hold in our hands. The sound quality and volume is also higher then the previous models.\\nI will recommend to buy iphone 11 instead of pro models , there is nothing much difference as this model contains everything which fulfill our needs.\\n\\nOnly one thing that I dislike abo...',\n",
       " 'Upgraded from iphone 6 to 11 best phone for iphone users battery is much better than other iphones camera is awesome love to use it.camera is so clear in night.',\n",
       " 'The built quality is not very premium.\\nThe battery back is great .\\nThe LCD panel is not so sharp but the brightness level is very High .\\nCamera is super duper awesome.\\nThe red colour which people think is bright is actually very soothing and excellent colour to choose from .\\nThe A13 Bionic chip is really a flagship processor and can beat any phone which even has 12 gb ram .\\nCamera module is very great and looks very stylish.']"
      ]
     },
     "execution_count": 68,
     "metadata": {},
     "output_type": "execute_result"
    }
   ],
   "source": [
    "full_review = driver.find_elements_by_xpath('//div[@class=\"\"]')\n",
    "len(full_review)\n",
    "full_review\n",
    "q = []\n",
    "\n",
    "for i in full_review:\n",
    "    q.append(i.text)\n",
    "len(q)\n",
    "q"
   ]
  },
  {
   "cell_type": "code",
   "execution_count": 69,
   "id": "a835cd53",
   "metadata": {},
   "outputs": [
    {
     "data": {
      "text/plain": [
       "['Worth every penny',\n",
       " 'Nice product',\n",
       " 'Perfect product!',\n",
       " 'Classy product',\n",
       " 'Brilliant',\n",
       " 'Good choice',\n",
       " 'Perfect product!',\n",
       " 'Wonderful',\n",
       " 'Terrific purchase',\n",
       " 'Terrific purchase']"
      ]
     },
     "execution_count": 69,
     "metadata": {},
     "output_type": "execute_result"
    }
   ],
   "source": [
    "rating_review = driver.find_elements_by_xpath('//p[@class=\"_2-N8zT\"]')\n",
    "len(rating_review)\n",
    "rating_review\n",
    "p = []\n",
    "\n",
    "for i in rating_review:\n",
    "    p.append(i.text)\n",
    "len(p)\n",
    "p"
   ]
  },
  {
   "cell_type": "code",
   "execution_count": null,
   "id": "6e28625c",
   "metadata": {},
   "outputs": [],
   "source": []
  }
 ],
 "metadata": {
  "kernelspec": {
   "display_name": "Python 3",
   "language": "python",
   "name": "python3"
  },
  "language_info": {
   "codemirror_mode": {
    "name": "ipython",
    "version": 3
   },
   "file_extension": ".py",
   "mimetype": "text/x-python",
   "name": "python",
   "nbconvert_exporter": "python",
   "pygments_lexer": "ipython3",
   "version": "3.8.8"
  }
 },
 "nbformat": 4,
 "nbformat_minor": 5
}
